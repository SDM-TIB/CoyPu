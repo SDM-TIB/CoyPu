{
 "cells": [
  {
   "cell_type": "code",
   "execution_count": null,
   "id": "e5af8a7f-8530-4080-8a3f-b926094a5de5",
   "metadata": {},
   "outputs": [],
   "source": [
    "import pandas as pd\n",
    "from coypu.utils.query import Query\n",
    "from coypu.utils.credentials import *\n",
    "from query import queries\n",
    "from coypu.datasets import DBSQL\n",
    "\n",
    "pd.options.display.max_rows = 999\n",
    "pd.options.display.max_columns = 999"
   ]
  },
  {
   "cell_type": "code",
   "execution_count": null,
   "id": "0f4b03c4-cfb8-4101-a6f7-0cdbe22e4619",
   "metadata": {},
   "outputs": [],
   "source": [
    "df = pd.read_csv('../../query_results/US_Accidents_Dec21_updated.csv', encoding='utf-8')\n",
    "df = df.iloc[0:10]"
   ]
  },
  {
   "cell_type": "code",
   "execution_count": null,
   "id": "e42a194b-4e20-4718-b8fd-67306ba65084",
   "metadata": {},
   "outputs": [],
   "source": [
    "with DBSQL(host, port, uname, pwd, dbname) as db:\n",
    "    db.df_to_sql(df, 'US_Accidents_Dec21_updated')\n",
    "    print(db.read_sql_as_df(\"Select * from US_Accidents_Dec21_updated limit 10\"))"
   ]
  },
  {
   "cell_type": "code",
   "execution_count": null,
   "id": "343dcc16-bb92-48d3-af56-03dce244b2b9",
   "metadata": {},
   "outputs": [],
   "source": []
  }
 ],
 "metadata": {
  "kernelspec": {
   "display_name": "Python 3 (ipykernel)",
   "language": "python",
   "name": "python3"
  },
  "language_info": {
   "codemirror_mode": {
    "name": "ipython",
    "version": 3
   },
   "file_extension": ".py",
   "mimetype": "text/x-python",
   "name": "python",
   "nbconvert_exporter": "python",
   "pygments_lexer": "ipython3",
   "version": "3.9.13"
  }
 },
 "nbformat": 4,
 "nbformat_minor": 5
}
