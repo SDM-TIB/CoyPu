{
 "cells": [
  {
   "cell_type": "code",
   "execution_count": 1,
   "id": "75394514-8b89-4c8c-987c-3207f9c03d17",
   "metadata": {},
   "outputs": [
    {
     "name": "stdout",
     "output_type": "stream",
     "text": [
      "coypu.utils\n"
     ]
    }
   ],
   "source": [
    "import pandas as pd\n",
    "from coypu.utils.query import Query\n",
    "from coypu.utils.credentials import *\n",
    "from query.queries import *\n",
    "import plotly.express as px\n",
    "import plotly.io as pio\n",
    "pio.renderers.default = \"browser\"\n",
    "import matplotlib.pyplot as plt\n",
    "\n",
    "pd.options.display.max_rows = 999\n",
    "pd.options.display.max_columns = 999"
   ]
  },
  {
   "cell_type": "code",
   "execution_count": 2,
   "id": "c87047ac-b265-460a-a20d-2b917e3fa4fd",
   "metadata": {},
   "outputs": [
    {
     "ename": "AttributeError",
     "evalue": "'Query' object has no attribute 'auth'",
     "output_type": "error",
     "traceback": [
      "\u001b[0;31m---------------------------------------------------------------------------\u001b[0m",
      "\u001b[0;31mAttributeError\u001b[0m                            Traceback (most recent call last)",
      "\u001b[1;32m/home/tibvyasa/projects/proj_off/local_repos/CoyPu/python/notebooks/query1.ipynb Cell 2\u001b[0m in \u001b[0;36m<cell line: 7>\u001b[0;34m()\u001b[0m\n\u001b[1;32m      <a href='vscode-notebook-cell://wsl%2Bubuntu-20.04/home/tibvyasa/projects/proj_off/local_repos/CoyPu/python/notebooks/query1.ipynb#W1sdnNjb2RlLXJlbW90ZQ%3D%3D?line=2'>3</a>\u001b[0m fuseki_infai \u001b[39m=\u001b[39m Query(fuseki_endpoint_infai, fuseki_user_infai, fuseki_pw_infai, \u001b[39m'\u001b[39m\u001b[39mbasic\u001b[39m\u001b[39m'\u001b[39m)\n\u001b[1;32m      <a href='vscode-notebook-cell://wsl%2Bubuntu-20.04/home/tibvyasa/projects/proj_off/local_repos/CoyPu/python/notebooks/query1.ipynb#W1sdnNjb2RlLXJlbW90ZQ%3D%3D?line=4'>5</a>\u001b[0m fdquery \u001b[39m=\u001b[39m Query(\u001b[39m\"\u001b[39m\u001b[39mhttp://localhost:5002/sparql\u001b[39m\u001b[39m\"\u001b[39m, is_fdq\u001b[39m=\u001b[39m\u001b[39mTrue\u001b[39;00m)\n\u001b[0;32m----> <a href='vscode-notebook-cell://wsl%2Bubuntu-20.04/home/tibvyasa/projects/proj_off/local_repos/CoyPu/python/notebooks/query1.ipynb#W1sdnNjb2RlLXJlbW90ZQ%3D%3D?line=6'>7</a>\u001b[0m cmemc_query_tib \u001b[39m=\u001b[39m Query(client_url_tib_1, client_id_tib_1, client_secret_tib_1, \u001b[39m'\u001b[39;49m\u001b[39moauth\u001b[39;49m\u001b[39m'\u001b[39;49m)\n",
      "File \u001b[0;32m~/projects/proj_off/local_repos/CoyPu/python/coypu/utils/query.py:18\u001b[0m, in \u001b[0;36mQuery.__init__\u001b[0;34m(self, url, id_or_user, pass_or_secret, auth_type, is_fdq)\u001b[0m\n\u001b[1;32m     16\u001b[0m \u001b[39mself\u001b[39m\u001b[39m.\u001b[39mis_fdq \u001b[39m=\u001b[39m is_fdq\n\u001b[1;32m     17\u001b[0m \u001b[39mself\u001b[39m\u001b[39m.\u001b[39mauth_type \u001b[39m=\u001b[39m auth_type\n\u001b[0;32m---> 18\u001b[0m \u001b[39mself\u001b[39;49m\u001b[39m.\u001b[39;49m__connect_to()\n",
      "File \u001b[0;32m~/projects/proj_off/local_repos/CoyPu/python/coypu/utils/query.py:44\u001b[0m, in \u001b[0;36mQuery.__connect_to\u001b[0;34m(self, accept_type)\u001b[0m\n\u001b[1;32m     42\u001b[0m \u001b[39mdef\u001b[39;00m \u001b[39m__connect_to\u001b[39m(\u001b[39mself\u001b[39m, accept_type\u001b[39m=\u001b[39m\u001b[39m'\u001b[39m\u001b[39mtext/csv\u001b[39m\u001b[39m'\u001b[39m):\n\u001b[1;32m     43\u001b[0m     \u001b[39mif\u001b[39;00m \u001b[39mself\u001b[39m\u001b[39m.\u001b[39mauth_type\u001b[39m==\u001b[39m\u001b[39m'\u001b[39m\u001b[39moauth\u001b[39m\u001b[39m'\u001b[39m:\n\u001b[0;32m---> 44\u001b[0m         \u001b[39mself\u001b[39;49m\u001b[39m.\u001b[39;49m__set_req_params_os2()\n\u001b[1;32m     45\u001b[0m     \u001b[39melif\u001b[39;00m \u001b[39mself\u001b[39m\u001b[39m.\u001b[39mauth_type\u001b[39m==\u001b[39m\u001b[39m'\u001b[39m\u001b[39mbasic\u001b[39m\u001b[39m'\u001b[39m:\n\u001b[1;32m     46\u001b[0m         \u001b[39mself\u001b[39m\u001b[39m.\u001b[39m__set_req_params_basic()\n",
      "File \u001b[0;32m~/projects/proj_off/local_repos/CoyPu/python/coypu/utils/functions.py:46\u001b[0m, in \u001b[0;36mauth_oauth.<locals>.wrapper\u001b[0;34m(*args, **kwargs)\u001b[0m\n\u001b[1;32m     43\u001b[0m \u001b[39mif\u001b[39;00m response\u001b[39m.\u001b[39mstatus_code \u001b[39m==\u001b[39m \u001b[39m200\u001b[39m:\n\u001b[1;32m     44\u001b[0m     args[\u001b[39m0\u001b[39m]\u001b[39m.\u001b[39mauth \u001b[39m=\u001b[39m \u001b[39m'\u001b[39m\u001b[39mBearer \u001b[39m\u001b[39m'\u001b[39m \u001b[39m+\u001b[39m response\u001b[39m.\u001b[39mjson()[\u001b[39m'\u001b[39m\u001b[39maccess_token\u001b[39m\u001b[39m'\u001b[39m]\n\u001b[0;32m---> 46\u001b[0m \u001b[39mreturn\u001b[39;00m func(\u001b[39m*\u001b[39;49margs, \u001b[39m*\u001b[39;49m\u001b[39m*\u001b[39;49mkwargs)\n",
      "File \u001b[0;32m~/projects/proj_off/local_repos/CoyPu/python/coypu/utils/query.py:33\u001b[0m, in \u001b[0;36mQuery.__set_req_params_os2\u001b[0;34m(self, accept_type)\u001b[0m\n\u001b[1;32m     30\u001b[0m \u001b[39m@auth_oauth\u001b[39m\n\u001b[1;32m     31\u001b[0m \u001b[39mdef\u001b[39;00m \u001b[39m__set_req_params_os2\u001b[39m(\u001b[39mself\u001b[39m, accept_type\u001b[39m=\u001b[39m\u001b[39m'\u001b[39m\u001b[39mtext/csv\u001b[39m\u001b[39m'\u001b[39m):\n\u001b[1;32m     32\u001b[0m     \u001b[39mself\u001b[39m\u001b[39m.\u001b[39murl \u001b[39m=\u001b[39m \u001b[39mself\u001b[39m\u001b[39m.\u001b[39murl \u001b[39m+\u001b[39m \u001b[39m\"\u001b[39m\u001b[39m/dataplatform/proxy/default/sparql\u001b[39m\u001b[39m\"\u001b[39m\n\u001b[0;32m---> 33\u001b[0m     \u001b[39mself\u001b[39m\u001b[39m.\u001b[39mheaders \u001b[39m=\u001b[39m \u001b[39mself\u001b[39;49m\u001b[39m.\u001b[39;49m__set_headers(accept_type)\n",
      "File \u001b[0;32m~/projects/proj_off/local_repos/CoyPu/python/coypu/utils/query.py:25\u001b[0m, in \u001b[0;36mQuery.__set_headers\u001b[0;34m(self, accept_type)\u001b[0m\n\u001b[1;32m     20\u001b[0m \u001b[39mdef\u001b[39;00m \u001b[39m__set_headers\u001b[39m(\u001b[39mself\u001b[39m, accept_type\u001b[39m=\u001b[39m\u001b[39m'\u001b[39m\u001b[39mtext/csv\u001b[39m\u001b[39m'\u001b[39m):\n\u001b[1;32m     21\u001b[0m     \u001b[39mif\u001b[39;00m \u001b[39mself\u001b[39m\u001b[39m.\u001b[39mauth_type:\n\u001b[1;32m     22\u001b[0m         headers \u001b[39m=\u001b[39m {\n\u001b[1;32m     23\u001b[0m             \u001b[39m'\u001b[39m\u001b[39mContent-Type\u001b[39m\u001b[39m'\u001b[39m: \u001b[39m'\u001b[39m\u001b[39mapplication/sparql-query\u001b[39m\u001b[39m'\u001b[39m,\n\u001b[1;32m     24\u001b[0m             \u001b[39m'\u001b[39m\u001b[39mAccept\u001b[39m\u001b[39m'\u001b[39m: accept_type,\n\u001b[0;32m---> 25\u001b[0m             \u001b[39m'\u001b[39m\u001b[39mAuthorization\u001b[39m\u001b[39m'\u001b[39m: \u001b[39mself\u001b[39;49m\u001b[39m.\u001b[39;49mauth}  \u001b[39m# text/html\u001b[39;00m\n\u001b[1;32m     26\u001b[0m     \u001b[39melse\u001b[39;00m:\n\u001b[1;32m     27\u001b[0m         headers \u001b[39m=\u001b[39m {\u001b[39m'\u001b[39m\u001b[39mContent-Type\u001b[39m\u001b[39m'\u001b[39m: \u001b[39m'\u001b[39m\u001b[39mapplication/x-www-form-urlencoded\u001b[39m\u001b[39m'\u001b[39m}\n",
      "\u001b[0;31mAttributeError\u001b[0m: 'Query' object has no attribute 'auth'"
     ]
    }
   ],
   "source": [
    "cmemc_query_imp = Query(client_url_imp, client_id_imp, client_secret_imp , 'oauth')\n",
    "    \n",
    "fuseki_infai = Query(fuseki_endpoint_infai, fuseki_user_infai, fuseki_pw_infai, 'basic')\n",
    "\n",
    "fdquery = Query(\"http://localhost:5002/sparql\", is_fdq=True)\n",
    "\n",
    "cmemc_query_tib = Query(client_url_tib_1, client_id_tib_1, client_secret_tib_1, 'oauth')"
   ]
  },
  {
   "cell_type": "code",
   "execution_count": null,
   "id": "601408ff",
   "metadata": {},
   "outputs": [],
   "source": [
    "print(query_0)\n",
    "\n",
    "cmemc_query_tib.post_query(query_0)"
   ]
  },
  {
   "cell_type": "code",
   "execution_count": null,
   "id": "c46062fd",
   "metadata": {},
   "outputs": [],
   "source": [
    "fuseki_infai.to_save('../../query_results', filename='testfuseki')"
   ]
  },
  {
   "cell_type": "code",
   "execution_count": null,
   "id": "9e47c410-b348-4c1e-90cf-2abcd0aeef98",
   "metadata": {},
   "outputs": [],
   "source": [
    "print(query_1_fdq_desc)\n",
    "print(query_1_fdq)\n",
    "print('########################### EXAMPLE ##########################\\n{}'.format(query_1_fdq_ex))\n",
    "fdquery.post_query(query_1_fdq_ex)\n",
    "fdquery.to_save('../../query_results/', filename='query_1_fdq_ex')"
   ]
  },
  {
   "cell_type": "code",
   "execution_count": null,
   "id": "11678928-c669-4d72-996a-af3e0c0723bf",
   "metadata": {},
   "outputs": [],
   "source": [
    "from sqlalchemy import create_engine\n",
    "\n",
    "engine = create_engine(\n",
    "        \"mysql+pymysql://{user}:{pw}@{hostname}:{portno}/{db}\".format(\n",
    "            hostname=host, db=dbname, user=uname, pw=pwd, portno=port\n",
    "        ),)\n",
    "\n",
    "df = pd.read_csv('../../query_results/query_1_fdq_ex.csv', encoding='utf-8')\n",
    "df.rename(columns=lambda x: x.replace('.value', ''), inplace=True)\n",
    "try:\n",
    "    df.to_sql('query_1_fdq_ex', con=engine, if_exists='fail', index=False)\n",
    "except Exception as e:\n",
    "    print('Exeception: {}',e)"
   ]
  },
  {
   "cell_type": "code",
   "execution_count": null,
   "id": "6cc78219-5839-4489-840b-5011adf46853",
   "metadata": {},
   "outputs": [],
   "source": [
    "from sqlalchemy import create_engine\n",
    "\n",
    "engine = create_engine(\n",
    "        \"mysql+pymysql://{user}:{pw}@{hostname}:{portno}/{db}\".format(\n",
    "            hostname=host, db=dbname, user=uname, pw=pwd, portno=port\n",
    "        ),)\n",
    "\n",
    "query_1_fdq_ex_sql = \"\"\"SELECT country_code, year, AVG(value) as carbon_emission, COUNT(disaster) AS no_of_disasters\n",
    "FROM `query_1_fdq_ex`\n",
    "WHERE year=year_dis\n",
    "GROUP By country_code, year\n",
    "Order By  year ASC\n",
    "\"\"\"\n",
    "\n",
    "df = pd.read_sql(query_1_fdq_ex_sql, con=engine)\n",
    "\n",
    "df.to_csv('../../query_results/query_1_fdq_ex_sql.csv', encoding='utf-8', index=False)"
   ]
  },
  {
   "cell_type": "code",
   "execution_count": null,
   "id": "ab400c3f-c92b-4b6e-b051-ef5530f75ddc",
   "metadata": {},
   "outputs": [],
   "source": [
    "def carbon_emission_group(carbon_emission):\n",
    "    if carbon_emission/1000000 < 0.25:\n",
    "        return '0.00-0.25'\n",
    "    elif carbon_emission/1000000 >= 0.25 and carbon_emission/1000000 < 0.5:\n",
    "        return '0.25-0.5'\n",
    "    elif carbon_emission/1000000 >= 0.5 and carbon_emission/1000000 < 0.75:\n",
    "        return '0.50-0.75'\n",
    "    else:\n",
    "        return '> 0.75'\n",
    "    \n",
    "\n",
    "df = pd.read_csv('../../query_results/query_1_fdq_ex_sql.csv', encoding='utf-8')\n",
    "df['carbon_emission(1e6)'] = df['carbon_emission'].apply(carbon_emission_group)\n",
    "\n",
    "df.head(10)"
   ]
  },
  {
   "cell_type": "code",
   "execution_count": null,
   "id": "815e669d-34f1-4637-ab70-427021f4e240",
   "metadata": {},
   "outputs": [],
   "source": [
    "\n",
    "fig = px.scatter_geo(df, locations=\"country_code\", color=\"carbon_emission(1e6)\",\n",
    "                     hover_data=['carbon_emission'], size=\"no_of_disasters\",\n",
    "                     animation_frame=\"year\",\n",
    "                     projection=\"equirectangular\", scope='europe')\n",
    "fig.update_layout(title_text='Carbon emission and the number of disaster events for various countries across years',\\\n",
    "                  title_font_color=\"red\", title_font_family=\"Times New Roman\", title_font_size=25)\n",
    "fig.write_html('../../query_results/query_1_fdq_ex_sql_new.html')\n",
    "fig.show()"
   ]
  },
  {
   "cell_type": "code",
   "execution_count": null,
   "id": "92c4bf74-2811-4aa6-8f74-f2e39fedf608",
   "metadata": {},
   "outputs": [],
   "source": []
  }
 ],
 "metadata": {
  "kernelspec": {
   "display_name": "Python 3.9.13 ('coypu')",
   "language": "python",
   "name": "python3"
  },
  "language_info": {
   "codemirror_mode": {
    "name": "ipython",
    "version": 3
   },
   "file_extension": ".py",
   "mimetype": "text/x-python",
   "name": "python",
   "nbconvert_exporter": "python",
   "pygments_lexer": "ipython3",
   "version": "3.9.13"
  },
  "vscode": {
   "interpreter": {
    "hash": "1f01d2debc0dab2131111cf4fcc295bf8655e407cc17f23f4d91786b78fe5ca1"
   }
  }
 },
 "nbformat": 4,
 "nbformat_minor": 5
}
