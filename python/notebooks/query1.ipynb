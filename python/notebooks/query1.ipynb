{
 "cells": [
  {
   "cell_type": "code",
   "execution_count": 3,
   "id": "75394514-8b89-4c8c-987c-3207f9c03d17",
   "metadata": {},
   "outputs": [
    {
     "name": "stdout",
     "output_type": "stream",
     "text": [
      "coypu.utils\n"
     ]
    }
   ],
   "source": [
    "import pandas as pd\n",
    "from coypu.utils.query import Query\n",
    "from coypu.utils.credentials import *\n",
    "from query.queries import *\n",
    "import plotly.express as px\n",
    "import plotly.io as pio\n",
    "pio.renderers.default = \"browser\"\n",
    "import matplotlib.pyplot as plt\n",
    "\n",
    "pd.options.display.max_rows = 999\n",
    "pd.options.display.max_columns = 999"
   ]
  },
  {
   "cell_type": "code",
   "execution_count": null,
   "id": "c87047ac-b265-460a-a20d-2b917e3fa4fd",
   "metadata": {},
   "outputs": [],
   "source": [
    "cmemc_query_imp = Query(client_url_imp, client_id_imp, client_secret_imp , 'oauth')\n",
    "    \n",
    "fuseki_infai = Query(fuseki_endpoint_infai, fuseki_user_infai, fuseki_pw_infai, 'basic')\n",
    "\n",
    "fdquery = Query(\"http://localhost:5002/sparql\", is_fdq=True)"
   ]
  },
  {
   "cell_type": "code",
   "execution_count": null,
   "id": "9e47c410-b348-4c1e-90cf-2abcd0aeef98",
   "metadata": {},
   "outputs": [],
   "source": [
    "print(query_1_fdq_desc)\n",
    "print(query_1_fdq)\n",
    "print('########################### EXAMPLE ##########################\\n{}'.format(query_1_fdq_ex))\n",
    "fdquery.post_query(query_1_fdq_ex)\n",
    "fdquery.to_save('../../query_results/', filename='query_1_fdq_ex')"
   ]
  },
  {
   "cell_type": "code",
   "execution_count": 13,
   "id": "11678928-c669-4d72-996a-af3e0c0723bf",
   "metadata": {},
   "outputs": [
    {
     "name": "stdout",
     "output_type": "stream",
     "text": [
      "Exeception: {} Table 'query_1_fdq_ex' already exists.\n"
     ]
    }
   ],
   "source": [
    "from sqlalchemy import create_engine\n",
    "\n",
    "engine = create_engine(\n",
    "        \"mysql+pymysql://{user}:{pw}@{hostname}:{portno}/{db}\".format(\n",
    "            hostname=host, db=dbname, user=uname, pw=pwd, portno=port\n",
    "        ),)\n",
    "\n",
    "df = pd.read_csv('../../query_results/query_1_fdq_ex.csv', encoding='utf-8')\n",
    "df.rename(columns=lambda x: x.replace('.value', ''), inplace=True)\n",
    "try:\n",
    "    df.to_sql('query_1_fdq_ex', con=engine, if_exists='fail', index=False)\n",
    "except Exception as e:\n",
    "    print('Exeception: {}',e)"
   ]
  },
  {
   "cell_type": "code",
   "execution_count": 45,
   "id": "6cc78219-5839-4489-840b-5011adf46853",
   "metadata": {},
   "outputs": [],
   "source": [
    "from sqlalchemy import create_engine\n",
    "\n",
    "engine = create_engine(\n",
    "        \"mysql+pymysql://{user}:{pw}@{hostname}:{portno}/{db}\".format(\n",
    "            hostname=host, db=dbname, user=uname, pw=pwd, portno=port\n",
    "        ),)\n",
    "\n",
    "query_1_fdq_ex_sql = \"\"\"SELECT country_code, year, AVG(value) as carbon_emission, COUNT(disaster) AS no_of_disasters\n",
    "FROM `query_1_fdq_ex`\n",
    "WHERE year=year_dis\n",
    "GROUP By country_code, year\n",
    "Order By  year ASC\n",
    "\"\"\"\n",
    "\n",
    "df = pd.read_sql(query_1_fdq_ex_sql, con=engine)\n",
    "\n",
    "df.to_csv('../../query_results/query_1_fdq_ex_sql.csv', encoding='utf-8', index=False)"
   ]
  },
  {
   "cell_type": "code",
   "execution_count": 4,
   "id": "ab400c3f-c92b-4b6e-b051-ef5530f75ddc",
   "metadata": {},
   "outputs": [
    {
     "data": {
      "text/html": [
       "<div>\n",
       "<style scoped>\n",
       "    .dataframe tbody tr th:only-of-type {\n",
       "        vertical-align: middle;\n",
       "    }\n",
       "\n",
       "    .dataframe tbody tr th {\n",
       "        vertical-align: top;\n",
       "    }\n",
       "\n",
       "    .dataframe thead th {\n",
       "        text-align: right;\n",
       "    }\n",
       "</style>\n",
       "<table border=\"1\" class=\"dataframe\">\n",
       "  <thead>\n",
       "    <tr style=\"text-align: right;\">\n",
       "      <th></th>\n",
       "      <th>country_code</th>\n",
       "      <th>year</th>\n",
       "      <th>carbon_emission</th>\n",
       "      <th>no_of_disasters</th>\n",
       "      <th>carbon_emission(1e6)</th>\n",
       "    </tr>\n",
       "  </thead>\n",
       "  <tbody>\n",
       "    <tr>\n",
       "      <th>0</th>\n",
       "      <td>AUT</td>\n",
       "      <td>2000</td>\n",
       "      <td>63530.0</td>\n",
       "      <td>3</td>\n",
       "      <td>0.00-0.25</td>\n",
       "    </tr>\n",
       "    <tr>\n",
       "      <th>1</th>\n",
       "      <td>BGR</td>\n",
       "      <td>2000</td>\n",
       "      <td>43420.0</td>\n",
       "      <td>4</td>\n",
       "      <td>0.00-0.25</td>\n",
       "    </tr>\n",
       "    <tr>\n",
       "      <th>2</th>\n",
       "      <td>BIH</td>\n",
       "      <td>2000</td>\n",
       "      <td>13960.0</td>\n",
       "      <td>4</td>\n",
       "      <td>0.00-0.25</td>\n",
       "    </tr>\n",
       "    <tr>\n",
       "      <th>3</th>\n",
       "      <td>BLR</td>\n",
       "      <td>2000</td>\n",
       "      <td>52940.0</td>\n",
       "      <td>1</td>\n",
       "      <td>0.00-0.25</td>\n",
       "    </tr>\n",
       "    <tr>\n",
       "      <th>4</th>\n",
       "      <td>CHE</td>\n",
       "      <td>2000</td>\n",
       "      <td>43710.0</td>\n",
       "      <td>2</td>\n",
       "      <td>0.00-0.25</td>\n",
       "    </tr>\n",
       "    <tr>\n",
       "      <th>5</th>\n",
       "      <td>CZE</td>\n",
       "      <td>2000</td>\n",
       "      <td>123170.0</td>\n",
       "      <td>1</td>\n",
       "      <td>0.00-0.25</td>\n",
       "    </tr>\n",
       "    <tr>\n",
       "      <th>6</th>\n",
       "      <td>DEU</td>\n",
       "      <td>2000</td>\n",
       "      <td>830280.0</td>\n",
       "      <td>3</td>\n",
       "      <td>&gt; 0.75</td>\n",
       "    </tr>\n",
       "    <tr>\n",
       "      <th>7</th>\n",
       "      <td>ESP</td>\n",
       "      <td>2000</td>\n",
       "      <td>293310.0</td>\n",
       "      <td>9</td>\n",
       "      <td>0.25-0.5</td>\n",
       "    </tr>\n",
       "    <tr>\n",
       "      <th>8</th>\n",
       "      <td>FRA</td>\n",
       "      <td>2000</td>\n",
       "      <td>373120.0</td>\n",
       "      <td>8</td>\n",
       "      <td>0.25-0.5</td>\n",
       "    </tr>\n",
       "    <tr>\n",
       "      <th>9</th>\n",
       "      <td>GBR</td>\n",
       "      <td>2000</td>\n",
       "      <td>530890.0</td>\n",
       "      <td>6</td>\n",
       "      <td>0.50-0.75</td>\n",
       "    </tr>\n",
       "  </tbody>\n",
       "</table>\n",
       "</div>"
      ],
      "text/plain": [
       "  country_code  year  carbon_emission  no_of_disasters carbon_emission(1e6)\n",
       "0          AUT  2000          63530.0                3            0.00-0.25\n",
       "1          BGR  2000          43420.0                4            0.00-0.25\n",
       "2          BIH  2000          13960.0                4            0.00-0.25\n",
       "3          BLR  2000          52940.0                1            0.00-0.25\n",
       "4          CHE  2000          43710.0                2            0.00-0.25\n",
       "5          CZE  2000         123170.0                1            0.00-0.25\n",
       "6          DEU  2000         830280.0                3               > 0.75\n",
       "7          ESP  2000         293310.0                9             0.25-0.5\n",
       "8          FRA  2000         373120.0                8             0.25-0.5\n",
       "9          GBR  2000         530890.0                6            0.50-0.75"
      ]
     },
     "execution_count": 4,
     "metadata": {},
     "output_type": "execute_result"
    }
   ],
   "source": [
    "def carbon_emission_group(carbon_emission):\n",
    "    if carbon_emission/1000000 < 0.25:\n",
    "        return '0.00-0.25'\n",
    "    elif carbon_emission/1000000 >= 0.25 and carbon_emission/1000000 < 0.5:\n",
    "        return '0.25-0.5'\n",
    "    elif carbon_emission/1000000 >= 0.5 and carbon_emission/1000000 < 0.75:\n",
    "        return '0.50-0.75'\n",
    "    else:\n",
    "        return '> 0.75'\n",
    "    \n",
    "\n",
    "df = pd.read_csv('../../query_results/query_1_fdq_ex_sql.csv', encoding='utf-8')\n",
    "df['carbon_emission(1e6)'] = df['carbon_emission'].apply(carbon_emission_group)\n",
    "\n",
    "df.head(10)"
   ]
  },
  {
   "cell_type": "code",
   "execution_count": 13,
   "id": "815e669d-34f1-4637-ab70-427021f4e240",
   "metadata": {},
   "outputs": [],
   "source": [
    "\n",
    "fig = px.scatter_geo(df, locations=\"country_code\", color=\"carbon_emission(1e6)\",\n",
    "                     hover_data=['carbon_emission'], size=\"no_of_disasters\",\n",
    "                     animation_frame=\"year\",\n",
    "                     projection=\"equirectangular\", scope='europe')\n",
    "fig.update_layout(title_text='Carbon emission and the number of disaster events for various countries across years',\\\n",
    "                  title_font_color=\"red\", title_font_family=\"Times New Roman\", title_font_size=25)\n",
    "fig.write_html('../../query_results/query_1_fdq_ex_sql.html')\n",
    "fig.show()"
   ]
  },
  {
   "cell_type": "code",
   "execution_count": null,
   "id": "92c4bf74-2811-4aa6-8f74-f2e39fedf608",
   "metadata": {},
   "outputs": [],
   "source": []
  }
 ],
 "metadata": {
  "kernelspec": {
   "display_name": "Python 3 (ipykernel)",
   "language": "python",
   "name": "python3"
  },
  "language_info": {
   "codemirror_mode": {
    "name": "ipython",
    "version": 3
   },
   "file_extension": ".py",
   "mimetype": "text/x-python",
   "name": "python",
   "nbconvert_exporter": "python",
   "pygments_lexer": "ipython3",
   "version": "3.9.13"
  }
 },
 "nbformat": 4,
 "nbformat_minor": 5
}
