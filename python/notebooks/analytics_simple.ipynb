{
 "cells": [
  {
   "cell_type": "code",
   "execution_count": 1,
   "id": "a588bd31-ec2b-4d56-b87b-845a939d72b2",
   "metadata": {},
   "outputs": [
    {
     "name": "stdout",
     "output_type": "stream",
     "text": [
      "coypu.utils\n"
     ]
    }
   ],
   "source": [
    "import pandas as pd\n",
    "from coypu.utils.query import Query\n",
    "from coypu.utils.credentials import *\n",
    "from query.queries import *\n",
    "import plotly.express as px\n",
    "import plotly.io as pio\n",
    "pio.renderers.default = \"browser\"\n",
    "\n",
    "pd.options.display.max_rows = 999\n",
    "pd.options.display.max_columns = 999"
   ]
  },
  {
   "cell_type": "code",
   "execution_count": 2,
   "id": "ff9b0c22-ff84-4022-b7de-9a0b2643865d",
   "metadata": {},
   "outputs": [],
   "source": [
    "cmemc_query_imp = Query(client_url_imp, client_id_imp, client_secret_imp , 'oauth')\n",
    "    \n",
    "fuseki_infai = Query(fuseki_endpoint_infai, fuseki_user_infai, fuseki_pw_infai, 'basic')\n",
    "\n",
    "fdquery = Query(\"http://localhost:5002/sparql\", is_fdq=True)"
   ]
  },
  {
   "cell_type": "code",
   "execution_count": null,
   "id": "84cec064-1705-461c-9380-75663a4061f3",
   "metadata": {},
   "outputs": [],
   "source": [
    "print(query_1_fdq_desc)\n",
    "print(query_1_fdq)\n",
    "print('########################### EXAMPLE ##########################\\n{}'.format(query_1_fdq_ex))\n",
    "\n",
    "\n",
    "fdquery.post_query(query_1_fdq_ex)\n",
    "fdquery.to_save('../../query_results/', filename='query_1_fdq_ex')"
   ]
  },
  {
   "cell_type": "code",
   "execution_count": null,
   "id": "030a094f-4b17-400e-bc1b-a493af9d5e9f",
   "metadata": {},
   "outputs": [],
   "source": [
    "print(query_2_fdq_desc)\n",
    "print(query_2_fdq)\n",
    "print('########################### EXAMPLE ##########################\\n{}'.format(query_2_fdq_ex))\n",
    "\n",
    "\n",
    "fdquery.post_query(query_2_fdq_ex)\n",
    "fdquery.to_save('../../query_results/', filename='query_2_fdq_ex')"
   ]
  },
  {
   "cell_type": "code",
   "execution_count": 3,
   "id": "f07a7ff5-5ab5-4b57-a13f-730551b8049f",
   "metadata": {},
   "outputs": [
    {
     "name": "stdout",
     "output_type": "stream",
     "text": [
      "Q3: For a given country (?c), return the GDP, the population and the GDP per capita per year for that country.\n",
      "For example:\n",
      "?c = ‘DEU’\n",
      "\n",
      "SELECT ?year ?time ?value ?population\n",
      "WHERE {\n",
      "    ?indicator a wb:AnnualIndicatorEntry .\n",
      "    ?indicator wb:hasIndicator <http://worldbank.org/Indicator/NY.GDP.MKTP.CD> .\n",
      "    ?indicator wb:hasCountry ?country .\n",
      "    ?indicator owl:hasValue ?value .\n",
      "    ?indicator time:year ?year .\n",
      "    ?country dc:identifier ?c .\n",
      "    ?country owl:sameAs ?countryWiki .\n",
      "\n",
      "    ?countryWiki p:P1082 ?itemP .\n",
      "    ?itemP pq:P585 ?time .\n",
      "    ?itemP ps:P1082 ?population .\n",
      "}\n",
      "\n",
      "########################### EXAMPLE ##########################\n",
      "PREFIX coy: <https://schema.coypu.org/global#>\n",
      "PREFIX rdfs: <http://www.w3.org/2000/01/rdf-schema#>\n",
      "PREFIX xsd: <http://www.w3.org/2001/XMLSchema#>\n",
      "PREFIX owl: <http://www.w3.org/2002/07/owl#>\n",
      "PREFIX skos: <http://www.w3.org/2004/02/skos/core#>\n",
      "PREFIX time: <http://www.w3.org/2006/time#> \n",
      "PREFIX wd: <http://www.wikidata.org/entity/>\n",
      "PREFIX wds: <http://www.wikidata.org/entity/statement/>\n",
      "PREFIX wdv: <http://www.wikidata.org/value/>\n",
      "PREFIX wdt: <http://www.wikidata.org/prop/direct/>\n",
      "PREFIX wikibase: <http://wikiba.se/ontology#>\n",
      "PREFIX p: <http://www.wikidata.org/prop/>\n",
      "PREFIX ps: <http://www.wikidata.org/prop/statement/>\n",
      "PREFIX pq: <http://www.wikidata.org/prop/qualifier/>\n",
      "PREFIX bd: <http://www.bigdata.com/rdf#>\n",
      "PREFIX wb: <http://worldbank.org/>\n",
      "PREFIX wbi: <http://worldbank.org/Indicator/>\n",
      "PREFIX dc: <http://purl.org/dc/elements/1.1/>\n",
      "PREFIX dcterms: <http://purl.org/dc/terms/>\n",
      "PREFIX dbo: <http://dbpedia.org/ontology/>\n",
      "SELECT ?year ?time ?value ?population\n",
      "WHERE {\n",
      "    ?indicator a wb:AnnualIndicatorEntry .\n",
      "    ?indicator wb:hasIndicator <http://worldbank.org/Indicator/NY.GDP.MKTP.CD> .\n",
      "    ?indicator wb:hasCountry ?country .\n",
      "    ?indicator owl:hasValue ?value .\n",
      "    ?indicator time:year ?year .\n",
      "    ?country dc:identifier 'DEU' .\n",
      "    ?country owl:sameAs ?countryWiki .\n",
      "\n",
      "    ?countryWiki p:P1082 ?itemP .\n",
      "    ?itemP pq:P585 ?time .\n",
      "    ?itemP ps:P1082 ?population .\n",
      "}\n",
      "\n",
      "Failed Query: ('Connection aborted.', RemoteDisconnected('Remote end closed connection without response'))\n",
      "Total time taken by post_query function: 3401.1681368350983\n"
     ]
    },
    {
     "ename": "AttributeError",
     "evalue": "'Query' object has no attribute 'response'",
     "output_type": "error",
     "traceback": [
      "\u001b[0;31m---------------------------------------------------------------------------\u001b[0m",
      "\u001b[0;31mAttributeError\u001b[0m                            Traceback (most recent call last)",
      "Input \u001b[0;32mIn [3]\u001b[0m, in \u001b[0;36m<cell line: 7>\u001b[0;34m()\u001b[0m\n\u001b[1;32m      3\u001b[0m \u001b[38;5;28mprint\u001b[39m(\u001b[38;5;124m'\u001b[39m\u001b[38;5;124m########################### EXAMPLE ##########################\u001b[39m\u001b[38;5;130;01m\\n\u001b[39;00m\u001b[38;5;132;01m{}\u001b[39;00m\u001b[38;5;124m'\u001b[39m\u001b[38;5;241m.\u001b[39mformat(query_3_fdq_ex))\n\u001b[1;32m      6\u001b[0m fdquery\u001b[38;5;241m.\u001b[39mpost_query(query_3_fdq_ex)\n\u001b[0;32m----> 7\u001b[0m \u001b[43mfdquery\u001b[49m\u001b[38;5;241;43m.\u001b[39;49m\u001b[43mto_save\u001b[49m\u001b[43m(\u001b[49m\u001b[38;5;124;43m'\u001b[39;49m\u001b[38;5;124;43m../../query_results/\u001b[39;49m\u001b[38;5;124;43m'\u001b[39;49m\u001b[43m,\u001b[49m\u001b[43m \u001b[49m\u001b[43mfilename\u001b[49m\u001b[38;5;241;43m=\u001b[39;49m\u001b[38;5;124;43m'\u001b[39;49m\u001b[38;5;124;43mquery_3_fdq_ex\u001b[39;49m\u001b[38;5;124;43m'\u001b[39;49m\u001b[43m,\u001b[49m\u001b[43m \u001b[49m\u001b[43mext\u001b[49m\u001b[38;5;241;43m=\u001b[39;49m\u001b[38;5;124;43m'\u001b[39;49m\u001b[38;5;124;43m.json\u001b[39;49m\u001b[38;5;124;43m'\u001b[39;49m\u001b[43m)\u001b[49m\n",
      "File \u001b[0;32m~/projects/proj_off/local_repos/CoyPu/python/coypu/utils/functions.py:60\u001b[0m, in \u001b[0;36mtimer.<locals>.wrapper\u001b[0;34m(*args, **kwargs)\u001b[0m\n\u001b[1;32m     57\u001b[0m \u001b[38;5;129m@functools\u001b[39m\u001b[38;5;241m.\u001b[39mwraps(func)\n\u001b[1;32m     58\u001b[0m \u001b[38;5;28;01mdef\u001b[39;00m \u001b[38;5;21mwrapper\u001b[39m(\u001b[38;5;241m*\u001b[39margs, \u001b[38;5;241m*\u001b[39m\u001b[38;5;241m*\u001b[39mkwargs):\n\u001b[1;32m     59\u001b[0m     time_pre \u001b[38;5;241m=\u001b[39m time\u001b[38;5;241m.\u001b[39mtime()\n\u001b[0;32m---> 60\u001b[0m     ret \u001b[38;5;241m=\u001b[39m \u001b[43mfunc\u001b[49m\u001b[43m(\u001b[49m\u001b[38;5;241;43m*\u001b[39;49m\u001b[43margs\u001b[49m\u001b[43m,\u001b[49m\u001b[43m \u001b[49m\u001b[38;5;241;43m*\u001b[39;49m\u001b[38;5;241;43m*\u001b[39;49m\u001b[43mkwargs\u001b[49m\u001b[43m)\u001b[49m\n\u001b[1;32m     61\u001b[0m     \u001b[38;5;28mprint\u001b[39m(\u001b[38;5;124m'\u001b[39m\u001b[38;5;124mTotal time taken by \u001b[39m\u001b[38;5;132;01m{}\u001b[39;00m\u001b[38;5;124m function: \u001b[39m\u001b[38;5;132;01m{}\u001b[39;00m\u001b[38;5;124m'\u001b[39m\u001b[38;5;241m.\u001b[39mformat(func\u001b[38;5;241m.\u001b[39m\u001b[38;5;18m__name__\u001b[39m,time\u001b[38;5;241m.\u001b[39mtime()\u001b[38;5;241m-\u001b[39mtime_pre))\n\u001b[1;32m     62\u001b[0m     \u001b[38;5;28;01mreturn\u001b[39;00m ret\n",
      "File \u001b[0;32m~/projects/proj_off/local_repos/CoyPu/python/coypu/utils/query.py:74\u001b[0m, in \u001b[0;36mQuery.to_save\u001b[0;34m(self, save_path, filename, ext)\u001b[0m\n\u001b[1;32m     72\u001b[0m filename \u001b[38;5;241m=\u001b[39m \u001b[38;5;124m'\u001b[39m\u001b[38;5;124m_\u001b[39m\u001b[38;5;124m'\u001b[39m\u001b[38;5;241m.\u001b[39mjoin(filename\u001b[38;5;241m.\u001b[39msplit(\u001b[38;5;124m'\u001b[39m\u001b[38;5;124m \u001b[39m\u001b[38;5;124m'\u001b[39m))\n\u001b[1;32m     73\u001b[0m \u001b[38;5;28;01mwith\u001b[39;00m \u001b[38;5;28mopen\u001b[39m(join(save_path, filename\u001b[38;5;241m+\u001b[39mext), \u001b[38;5;124m'\u001b[39m\u001b[38;5;124mwb\u001b[39m\u001b[38;5;124m'\u001b[39m) \u001b[38;5;28;01mas\u001b[39;00m fd:\n\u001b[0;32m---> 74\u001b[0m     \u001b[38;5;28;01mfor\u001b[39;00m chunk \u001b[38;5;129;01min\u001b[39;00m \u001b[38;5;28;43mself\u001b[39;49m\u001b[38;5;241;43m.\u001b[39;49m\u001b[43mresponse\u001b[49m\u001b[38;5;241m.\u001b[39miter_content(chunk_size\u001b[38;5;241m=\u001b[39m\u001b[38;5;241m128\u001b[39m):\n\u001b[1;32m     75\u001b[0m         fd\u001b[38;5;241m.\u001b[39mwrite(chunk)\n",
      "\u001b[0;31mAttributeError\u001b[0m: 'Query' object has no attribute 'response'"
     ]
    }
   ],
   "source": [
    "print(query_3_fdq_desc)\n",
    "print(query_3_fdq)\n",
    "print('########################### EXAMPLE ##########################\\n{}'.format(query_3_fdq_ex))\n",
    "\n",
    "\n",
    "fdquery.post_query(query_3_fdq_ex)\n",
    "fdquery.to_save('../../query_results/', filename='query_3_fdq_ex')"
   ]
  },
  {
   "cell_type": "code",
   "execution_count": null,
   "id": "e0f9ff32-32c3-4520-9fec-b06d1e586e7f",
   "metadata": {},
   "outputs": [
    {
     "name": "stdout",
     "output_type": "stream",
     "text": [
      "Q4: For a given country (?c) and event type (?et), return the fatality percentage and number of events of the specified type per year for that country.\n",
      "For example:\n",
      "?c = ‘SYR’\n",
      "?et = coy:AcledEvent\n",
      "\n",
      "SELECT ?timestamp ?time ?fatalities ?population ?iri\n",
      "WHERE {\n",
      "    ?iri a ?et .\n",
      "    ?iri coy:hasIsoCode ?c .\n",
      "    ?iri coy:hasTimestamp ?timestamp .\n",
      "    ?iri coy:hasFatalities ?fatalities .\n",
      "\n",
      "    ?countryWiki p:P298 ?isoCode .\n",
      "    ?isoCode ps:P298 ?c .\n",
      "    ?countryWiki p:P1082 ?itemP .\n",
      "    ?itemP pq:P585 ?time .\n",
      "    ?itemP ps:P1082 ?population .\n",
      "}\n",
      "\n",
      "########################### EXAMPLE ##########################\n",
      "PREFIX coy: <https://schema.coypu.org/global#>\n",
      "PREFIX rdfs: <http://www.w3.org/2000/01/rdf-schema#>\n",
      "PREFIX xsd: <http://www.w3.org/2001/XMLSchema#>\n",
      "PREFIX owl: <http://www.w3.org/2002/07/owl#>\n",
      "PREFIX skos: <http://www.w3.org/2004/02/skos/core#>\n",
      "PREFIX time: <http://www.w3.org/2006/time#> \n",
      "PREFIX wd: <http://www.wikidata.org/entity/>\n",
      "PREFIX wds: <http://www.wikidata.org/entity/statement/>\n",
      "PREFIX wdv: <http://www.wikidata.org/value/>\n",
      "PREFIX wdt: <http://www.wikidata.org/prop/direct/>\n",
      "PREFIX wikibase: <http://wikiba.se/ontology#>\n",
      "PREFIX p: <http://www.wikidata.org/prop/>\n",
      "PREFIX ps: <http://www.wikidata.org/prop/statement/>\n",
      "PREFIX pq: <http://www.wikidata.org/prop/qualifier/>\n",
      "PREFIX bd: <http://www.bigdata.com/rdf#>\n",
      "PREFIX wb: <http://worldbank.org/>\n",
      "PREFIX wbi: <http://worldbank.org/Indicator/>\n",
      "PREFIX dc: <http://purl.org/dc/elements/1.1/>\n",
      "PREFIX dcterms: <http://purl.org/dc/terms/>\n",
      "PREFIX dbo: <http://dbpedia.org/ontology/>\n",
      "SELECT ?timestamp ?time ?fatalities ?population ?iri\n",
      "WHERE {\n",
      "    ?iri a coy:AcledEvent .\n",
      "    ?iri coy:hasIsoCode 'SYR' .\n",
      "    ?iri coy:hasTimestamp ?timestamp .\n",
      "    ?iri coy:hasFatalities ?fatalities .\n",
      "\n",
      "    ?countryWiki p:P298 ?isoCode .\n",
      "    ?isoCode ps:P298 'SYR' .\n",
      "    ?countryWiki p:P1082 ?itemP .\n",
      "    ?itemP pq:P585 ?time .\n",
      "    ?itemP ps:P1082 ?population .\n",
      "}\n",
      "\n"
     ]
    }
   ],
   "source": [
    "print(query_4_fdq_desc)\n",
    "print(query_4_fdq)\n",
    "print('########################### EXAMPLE ##########################\\n{}'.format(query_4_fdq_ex))\n",
    "\n",
    "\n",
    "fdquery.post_query(query_4_fdq_ex)\n",
    "fdquery.to_save('../../query_results/', filename='query_4_fdq_ex')"
   ]
  },
  {
   "cell_type": "code",
   "execution_count": null,
   "id": "5fec1420-2463-4e38-923d-e0f83119921c",
   "metadata": {},
   "outputs": [],
   "source": []
  }
 ],
 "metadata": {
  "kernelspec": {
   "display_name": "Python 3 (ipykernel)",
   "language": "python",
   "name": "python3"
  },
  "language_info": {
   "codemirror_mode": {
    "name": "ipython",
    "version": 3
   },
   "file_extension": ".py",
   "mimetype": "text/x-python",
   "name": "python",
   "nbconvert_exporter": "python",
   "pygments_lexer": "ipython3",
   "version": "3.9.13"
  }
 },
 "nbformat": 4,
 "nbformat_minor": 5
}
