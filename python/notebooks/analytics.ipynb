{
 "cells": [
  {
   "cell_type": "code",
   "execution_count": null,
   "id": "75394514-8b89-4c8c-987c-3207f9c03d17",
   "metadata": {},
   "outputs": [],
   "source": [
    "import pandas as pd\n",
    "from coypu.utils import query\n",
    "from query import queries\n",
    "\n",
    "pd.options.display.max_rows = 999\n",
    "pd.options.display.max_columns = 999"
   ]
  },
  {
   "cell_type": "code",
   "execution_count": null,
   "id": "c87047ac-b265-460a-a20d-2b917e3fa4fd",
   "metadata": {},
   "outputs": [],
   "source": [
    "# sparql_endpoints\n",
    "\n",
    "cmemc_query_imp = query.CMEMCQuery(query.client_url_imp, query.client_id_imp, query.client_secret_imp)\n",
    "    \n",
    "fuseki_infai = query.FusekiQuery(query.fuseki_endpoint_infai, query.fuseki_user_infai, query.fuseki_pw_infai)\n",
    "\n",
    "fdquery = query.FDQuery(\"http://localhost:5002/sparql\")"
   ]
  },
  {
   "cell_type": "code",
   "execution_count": null,
   "id": "92d1a2e1-3fba-489c-99b5-db842ef10343",
   "metadata": {},
   "outputs": [],
   "source": [
    "fdquery.get_answer(queries.query_test_private_public, sparql1_1=True).head(2)\n",
    "fdquery.get_answer(queries.query_test_private_service_2, sparql1_1=True).head(2)\n",
    "fdquery.get_answer(queries.query_test_private_service, sparql1_1=True).head(2)"
   ]
  },
  {
   "cell_type": "code",
   "execution_count": null,
   "id": "619d0594-dbc1-4593-929d-fc8ae8f0181f",
   "metadata": {},
   "outputs": [],
   "source": [
    "fdquery.get_answer(queries.query_1_fdq, sparql1_1=True)"
   ]
  },
  {
   "cell_type": "code",
   "execution_count": null,
   "id": "ed9b1e0a-726b-47af-9321-8933625bb6df",
   "metadata": {},
   "outputs": [],
   "source": [
    "# Processing Data\n",
    "from coypu.datasets import dataset\n",
    "from coypu.utils import functions\n",
    "import pandas as pd\n",
    "\n",
    "df = pd.read_csv('../../query_results/US_Accidents_Dec21_updated.csv', encoding='utf-8')\n",
    "\n",
    "print (df.columns)\n",
    "\n",
    "array_fast = dataset.FastArrayProcessing(functions.add_text, df['Description'])\n"
   ]
  },
  {
   "cell_type": "code",
   "execution_count": null,
   "id": "8114ee5d-156c-4cdf-ad35-d25a89d57709",
   "metadata": {},
   "outputs": [],
   "source": [
    "df_m = array_fast.do_multiprocessing()"
   ]
  },
  {
   "cell_type": "code",
   "execution_count": null,
   "id": "46fa04fe-d3d6-40b3-839d-4ba55989d5e4",
   "metadata": {},
   "outputs": [],
   "source": [
    "df_par = array_fast.do_parallel_processing()"
   ]
  },
  {
   "cell_type": "code",
   "execution_count": null,
   "id": "0497e00f-6422-408d-a436-0ddac156c1e3",
   "metadata": {},
   "outputs": [],
   "source": [
    "df_batch = array_fast.do_batch_processing()"
   ]
  },
  {
   "cell_type": "code",
   "execution_count": null,
   "id": "bc388e39-ed68-4147-bf0a-708109d14d49",
   "metadata": {},
   "outputs": [],
   "source": [
    "df_con = array_fast.do_concurrent()"
   ]
  },
  {
   "cell_type": "code",
   "execution_count": null,
   "id": "ca72025b-1f0f-482c-8d9c-cc85abdca78d",
   "metadata": {},
   "outputs": [],
   "source": []
  }
 ],
 "metadata": {
  "kernelspec": {
   "display_name": "Python 3 (ipykernel)",
   "language": "python",
   "name": "python3"
  },
  "language_info": {
   "codemirror_mode": {
    "name": "ipython",
    "version": 3
   },
   "file_extension": ".py",
   "mimetype": "text/x-python",
   "name": "python",
   "nbconvert_exporter": "python",
   "pygments_lexer": "ipython3",
   "version": "3.9.13"
  }
 },
 "nbformat": 4,
 "nbformat_minor": 5
}
