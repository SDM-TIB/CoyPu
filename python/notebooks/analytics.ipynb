{
 "cells": [
  {
   "cell_type": "code",
   "execution_count": 1,
   "id": "75394514-8b89-4c8c-987c-3207f9c03d17",
   "metadata": {},
   "outputs": [
    {
     "name": "stdout",
     "output_type": "stream",
     "text": [
      "coypu.utils\n"
     ]
    },
    {
     "ename": "ImportError",
     "evalue": "cannot import name 'DFExt' from 'coypu.datasets' (/home/tibvyasa/projects/proj_off/local_repos/CoyPu/python/coypu/datasets/__init__.py)",
     "output_type": "error",
     "traceback": [
      "\u001b[0;31m---------------------------------------------------------------------------\u001b[0m",
      "\u001b[0;31mImportError\u001b[0m                               Traceback (most recent call last)",
      "Input \u001b[0;32mIn [1]\u001b[0m, in \u001b[0;36m<cell line: 7>\u001b[0;34m()\u001b[0m\n\u001b[1;32m      5\u001b[0m \u001b[38;5;28;01mimport\u001b[39;00m \u001b[38;5;21;01mplotly\u001b[39;00m\u001b[38;5;21;01m.\u001b[39;00m\u001b[38;5;21;01mexpress\u001b[39;00m \u001b[38;5;28;01mas\u001b[39;00m \u001b[38;5;21;01mpx\u001b[39;00m\n\u001b[1;32m      6\u001b[0m \u001b[38;5;28;01mimport\u001b[39;00m \u001b[38;5;21;01mplotly\u001b[39;00m\u001b[38;5;21;01m.\u001b[39;00m\u001b[38;5;21;01mio\u001b[39;00m \u001b[38;5;28;01mas\u001b[39;00m \u001b[38;5;21;01mpio\u001b[39;00m\n\u001b[0;32m----> 7\u001b[0m \u001b[38;5;28;01mfrom\u001b[39;00m \u001b[38;5;21;01mcoypu\u001b[39;00m\u001b[38;5;21;01m.\u001b[39;00m\u001b[38;5;21;01mdatasets\u001b[39;00m \u001b[38;5;28;01mimport\u001b[39;00m DBCON, DFExt\n\u001b[1;32m      8\u001b[0m pio\u001b[38;5;241m.\u001b[39mrenderers\u001b[38;5;241m.\u001b[39mdefault \u001b[38;5;241m=\u001b[39m \u001b[38;5;124m\"\u001b[39m\u001b[38;5;124mbrowser\u001b[39m\u001b[38;5;124m\"\u001b[39m\n\u001b[1;32m     10\u001b[0m pd\u001b[38;5;241m.\u001b[39moptions\u001b[38;5;241m.\u001b[39mdisplay\u001b[38;5;241m.\u001b[39mmax_rows \u001b[38;5;241m=\u001b[39m \u001b[38;5;241m999\u001b[39m\n",
      "\u001b[0;31mImportError\u001b[0m: cannot import name 'DFExt' from 'coypu.datasets' (/home/tibvyasa/projects/proj_off/local_repos/CoyPu/python/coypu/datasets/__init__.py)"
     ]
    }
   ],
   "source": [
    "import pandas as pd\n",
    "from coypu.utils.query import Query\n",
    "from coypu.utils.credentials import *\n",
    "from query.queries import *\n",
    "import plotly.express as px\n",
    "import plotly.io as pio\n",
    "from coypu.datasets import DBCON, DFExt\n",
    "pio.renderers.default = \"browser\"\n",
    "\n",
    "pd.options.display.max_rows = 999\n",
    "pd.options.display.max_columns = 999"
   ]
  },
  {
   "cell_type": "code",
   "execution_count": null,
   "id": "c87047ac-b265-460a-a20d-2b917e3fa4fd",
   "metadata": {},
   "outputs": [],
   "source": [
    "cmemc_query_imp = Query(client_url_imp, client_id_imp, client_secret_imp , 'oauth')\n",
    "    \n",
    "fuseki_infai = Query(fuseki_endpoint_infai, fuseki_user_infai, fuseki_pw_infai, 'basic')\n",
    "\n",
    "fdquery = Query(\"http://localhost:5002/sparql\", is_fdq=True)"
   ]
  },
  {
   "cell_type": "code",
   "execution_count": null,
   "id": "9e47c410-b348-4c1e-90cf-2abcd0aeef98",
   "metadata": {},
   "outputs": [],
   "source": [
    "print(query_1_fdq_desc)\n",
    "print(query_1_fdq)\n",
    "print('########################### EXAMPLE ##########################\\n{}'.format(query_1_fdq_ex))\n",
    "fdquery.post_query(query_1_fdq_ex)\n",
    "fdquery.to_save('../../query_results/', filename='query_1_fdq_ex')"
   ]
  },
  {
   "cell_type": "code",
   "execution_count": null,
   "id": "11678928-c669-4d72-996a-af3e0c0723bf",
   "metadata": {},
   "outputs": [],
   "source": [
    "from sqlalchemy import create_engine\n",
    "\n",
    "engine = create_engine(\n",
    "        \"mysql+pymysql://{user}:{pw}@{hostname}:{portno}/{db}\".format(\n",
    "            hostname=host, db=dbname, user=uname, pw=pwd, portno=port\n",
    "        ),)\n",
    "\n",
    "df = pd.read_csv('../../query_results/query_1_fdq_ex.csv', encoding='utf-8')\n",
    "try:\n",
    "    df.to_sql('query_1_fdq_ex', con=engine, if_exists='fails')\n",
    "except Exception as e:\n",
    "    print('Error: {}',e)"
   ]
  },
  {
   "cell_type": "code",
   "execution_count": null,
   "id": "6cc78219-5839-4489-840b-5011adf46853",
   "metadata": {},
   "outputs": [],
   "source": [
    "df = pd.read_sql(\"\"\"Select * from query_1_fdq_ex LIMIT 10\"\"\", con=engine))"
   ]
  },
  {
   "cell_type": "code",
   "execution_count": null,
   "id": "815e669d-34f1-4637-ab70-427021f4e240",
   "metadata": {},
   "outputs": [],
   "source": [
    "## GDP for different year for different countries\n",
    "\n",
    "df = pd.read_csv('../../query_results/gdp_per_capita_region_1.csv', encoding='utf-8')\n",
    "fig = px.scatter_geo(df, locations=\"country_code\", color=\"region1\",\n",
    "                     hover_name=\"country_name1\", size=\"gdp_capita\",\n",
    "                     animation_frame=\"year\",\n",
    "                     projection=\"equirectangular\")\n",
    "fig.update_layout(height=500, width=1000, margin={\"r\":0,\"t\":0,\"l\":0,\"b\":0})\n",
    "fig.show()"
   ]
  }
 ],
 "metadata": {
  "kernelspec": {
   "display_name": "Python 3 (ipykernel)",
   "language": "python",
   "name": "python3"
  },
  "language_info": {
   "codemirror_mode": {
    "name": "ipython",
    "version": 3
   },
   "file_extension": ".py",
   "mimetype": "text/x-python",
   "name": "python",
   "nbconvert_exporter": "python",
   "pygments_lexer": "ipython3",
   "version": "3.9.13"
  }
 },
 "nbformat": 4,
 "nbformat_minor": 5
}
