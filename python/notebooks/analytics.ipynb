{
 "cells": [
  {
   "cell_type": "code",
   "execution_count": 1,
   "id": "75394514-8b89-4c8c-987c-3207f9c03d17",
   "metadata": {},
   "outputs": [
    {
     "name": "stdout",
     "output_type": "stream",
     "text": [
      "coypu.utils\n"
     ]
    }
   ],
   "source": [
    "import pandas as pd\n",
    "from coypu.utils.query import Query\n",
    "from coypu.utils.credentials import *\n",
    "from query.queries import *\n",
    "import plotly.express as px\n",
    "import plotly.io as pio\n",
    "pio.renderers.default = \"browser\"\n",
    "\n",
    "pd.options.display.max_rows = 999\n",
    "pd.options.display.max_columns = 999"
   ]
  },
  {
   "cell_type": "code",
   "execution_count": 20,
   "id": "c87047ac-b265-460a-a20d-2b917e3fa4fd",
   "metadata": {},
   "outputs": [],
   "source": [
    "cmemc_query_imp = Query(client_url_imp, client_id_imp, client_secret_imp , 'oauth')\n",
    "    \n",
    "fuseki_infai = Query(fuseki_endpoint_infai, fuseki_user_infai, fuseki_pw_infai, 'basic')\n",
    "\n",
    "fdquery = Query(\"http://localhost:5002/sparql\", is_fdq=True)"
   ]
  },
  {
   "cell_type": "code",
   "execution_count": 34,
   "id": "cfbcc29b-7f5e-4251-81c4-8172795456bc",
   "metadata": {},
   "outputs": [
    {
     "name": "stdout",
     "output_type": "stream",
     "text": [
      "Passed Query Description: 200\n",
      "Total time taken by post_query function: 0.07371115684509277\n",
      "Total time taken by to_save function: 0.0010981559753417969\n"
     ]
    }
   ],
   "source": [
    "query = \"\"\"PREFIX coy: <https://schema.coypu.org/global#>\n",
    "PREFIX rdfs: <http://www.w3.org/2000/01/rdf-schema#>\n",
    "PREFIX xsd: <http://www.w3.org/2001/XMLSchema#>\n",
    "PREFIX owl: <http://www.w3.org/2002/07/owl#>\n",
    "PREFIX skos: <http://www.w3.org/2004/02/skos/core#>\n",
    "PREFIX time: <http://www.w3.org/2006/time#> \n",
    "PREFIX wd: <http://www.wikidata.org/entity/>\n",
    "PREFIX wds: <http://www.wikidata.org/entity/statement/>\n",
    "PREFIX wdv: <http://www.wikidata.org/value/>\n",
    "PREFIX wdt: <http://www.wikidata.org/prop/direct/>\n",
    "PREFIX wikibase: <http://wikiba.se/ontology#>\n",
    "PREFIX p: <http://www.wikidata.org/prop/>\n",
    "PREFIX ps: <http://www.wikidata.org/prop/statement/>\n",
    "PREFIX pq: <http://www.wikidata.org/prop/qualifier/>\n",
    "PREFIX bd: <http://www.bigdata.com/rdf#>\n",
    "PREFIX wb: <http://worldbank.org/>\n",
    "PREFIX wbi: <http://worldbank.org/Indicator/>\n",
    "PREFIX dc: <http://purl.org/dc/elements/1.1/>\n",
    "PREFIX dcterms: <http://purl.org/dc/terms/>\n",
    "PREFIX dbo: <http://dbpedia.org/ontology/>\n",
    "SELECT ?year ?disaster\n",
    "WHERE {\n",
    "\n",
    "    ?disaster a coy:Disaster .\n",
    "    ?disaster coy:hasLocation ?country_dis .\n",
    "}LIMIT 10\"\"\"\n",
    "cmemc_query_imp.post_query(query)\n",
    "cmemc_query_imp.to_save('../../query_results/', filename='test')"
   ]
  },
  {
   "cell_type": "code",
   "execution_count": null,
   "id": "9e47c410-b348-4c1e-90cf-2abcd0aeef98",
   "metadata": {},
   "outputs": [],
   "source": []
  },
  {
   "cell_type": "code",
   "execution_count": null,
   "id": "815e669d-34f1-4637-ab70-427021f4e240",
   "metadata": {},
   "outputs": [],
   "source": [
    "## GDP for different year for different countries\n",
    "\n",
    "df = pd.read_csv('../../query_results/gdp_per_capita_region_1.csv', encoding='utf-8')\n",
    "fig = px.scatter_geo(df, locations=\"country_code\", color=\"region1\",\n",
    "                     hover_name=\"country_name1\", size=\"gdp_capita\",\n",
    "                     animation_frame=\"year\",\n",
    "                     projection=\"equirectangular\")\n",
    "fig.update_layout(height=500, width=1000, margin={\"r\":0,\"t\":0,\"l\":0,\"b\":0})\n",
    "fig.show()"
   ]
  }
 ],
 "metadata": {
  "kernelspec": {
   "display_name": "Python 3 (ipykernel)",
   "language": "python",
   "name": "python3"
  },
  "language_info": {
   "codemirror_mode": {
    "name": "ipython",
    "version": 3
   },
   "file_extension": ".py",
   "mimetype": "text/x-python",
   "name": "python",
   "nbconvert_exporter": "python",
   "pygments_lexer": "ipython3",
   "version": "3.9.13"
  }
 },
 "nbformat": 4,
 "nbformat_minor": 5
}
