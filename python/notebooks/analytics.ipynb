{
 "cells": [
  {
   "cell_type": "code",
   "execution_count": 1,
   "id": "75394514-8b89-4c8c-987c-3207f9c03d17",
   "metadata": {},
   "outputs": [
    {
     "name": "stdout",
     "output_type": "stream",
     "text": [
      "coypu.utils\n"
     ]
    }
   ],
   "source": [
    "import pandas as pd\n",
    "from coypu.utils import query\n",
    "from query import queries\n",
    "\n",
    "pd.options.display.max_rows = 999\n",
    "pd.options.display.max_columns = 999"
   ]
  },
  {
   "cell_type": "code",
   "execution_count": 2,
   "id": "c87047ac-b265-460a-a20d-2b917e3fa4fd",
   "metadata": {},
   "outputs": [],
   "source": [
    "# sparql_endpoints\n",
    "\n",
    "cmemc_query_imp = query.CMEMCQuery(query.client_url_imp, query.client_id_imp, query.client_secret_imp)\n",
    "    \n",
    "fuseki_infai = query.FusekiQuery(query.fuseki_endpoint_infai, query.fuseki_user_infai, query.fuseki_pw_infai)\n",
    "\n",
    "fdquery = query.FDQuery(\"http://localhost:5002/sparql\")"
   ]
  },
  {
   "cell_type": "code",
   "execution_count": 3,
   "id": "92d1a2e1-3fba-489c-99b5-db842ef10343",
   "metadata": {},
   "outputs": [
    {
     "name": "stdout",
     "output_type": "stream",
     "text": [
      "Total time taken by get_answer function: 0.18975257873535156\n",
      "Total time taken by get_answer function: 0.19462108612060547\n",
      "Total time taken by get_answer function: 0.19704771041870117\n"
     ]
    },
    {
     "data": {
      "text/html": [
       "<div>\n",
       "<style scoped>\n",
       "    .dataframe tbody tr th:only-of-type {\n",
       "        vertical-align: middle;\n",
       "    }\n",
       "\n",
       "    .dataframe tbody tr th {\n",
       "        vertical-align: top;\n",
       "    }\n",
       "\n",
       "    .dataframe thead th {\n",
       "        text-align: right;\n",
       "    }\n",
       "</style>\n",
       "<table border=\"1\" class=\"dataframe\">\n",
       "  <thead>\n",
       "    <tr style=\"text-align: right;\">\n",
       "      <th></th>\n",
       "      <th>__meta__.is_verified</th>\n",
       "      <th>o.type</th>\n",
       "      <th>o.value</th>\n",
       "    </tr>\n",
       "  </thead>\n",
       "  <tbody>\n",
       "    <tr>\n",
       "      <th>0</th>\n",
       "      <td>True</td>\n",
       "      <td>uri</td>\n",
       "      <td>http://www.w3.org/2000/01/rdf-schema#Resource</td>\n",
       "    </tr>\n",
       "    <tr>\n",
       "      <th>1</th>\n",
       "      <td>True</td>\n",
       "      <td>uri</td>\n",
       "      <td>http://www.w3.org/2002/07/owl#Thing</td>\n",
       "    </tr>\n",
       "  </tbody>\n",
       "</table>\n",
       "</div>"
      ],
      "text/plain": [
       "   __meta__.is_verified o.type                                        o.value\n",
       "0                  True    uri  http://www.w3.org/2000/01/rdf-schema#Resource\n",
       "1                  True    uri            http://www.w3.org/2002/07/owl#Thing"
      ]
     },
     "execution_count": 3,
     "metadata": {},
     "output_type": "execute_result"
    }
   ],
   "source": [
    "fdquery.get_answer(queries.query_test_private_public, sparql1_1=True).head(2)\n",
    "fdquery.get_answer(queries.query_test_private_service_2, sparql1_1=True).head(2)\n",
    "fdquery.get_answer(queries.query_test_private_service, sparql1_1=True).head(2)"
   ]
  },
  {
   "cell_type": "code",
   "execution_count": 4,
   "id": "619d0594-dbc1-4593-929d-fc8ae8f0181f",
   "metadata": {},
   "outputs": [
    {
     "name": "stdout",
     "output_type": "stream",
     "text": [
      "No results found\n",
      "Total time taken by get_answer function: 0.008326292037963867\n"
     ]
    }
   ],
   "source": [
    "fdquery.get_answer(queries.query_1_fdq, sparql1_1=True)"
   ]
  },
  {
   "cell_type": "code",
   "execution_count": null,
   "id": "ed9b1e0a-726b-47af-9321-8933625bb6df",
   "metadata": {},
   "outputs": [],
   "source": []
  }
 ],
 "metadata": {
  "kernelspec": {
   "display_name": "Python 3 (ipykernel)",
   "language": "python",
   "name": "python3"
  },
  "language_info": {
   "codemirror_mode": {
    "name": "ipython",
    "version": 3
   },
   "file_extension": ".py",
   "mimetype": "text/x-python",
   "name": "python",
   "nbconvert_exporter": "python",
   "pygments_lexer": "ipython3",
   "version": "3.9.13"
  }
 },
 "nbformat": 4,
 "nbformat_minor": 5
}
