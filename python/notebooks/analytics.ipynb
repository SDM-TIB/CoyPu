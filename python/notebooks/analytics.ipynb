{
 "cells": [
  {
   "cell_type": "code",
   "execution_count": 1,
   "id": "75394514-8b89-4c8c-987c-3207f9c03d17",
   "metadata": {},
   "outputs": [
    {
     "name": "stdout",
     "output_type": "stream",
     "text": [
      "coypu.utils\n"
     ]
    }
   ],
   "source": [
    "import pandas as pd\n",
    "from coypu.utils.query import Query\n",
    "from coypu.utils.credentials import *\n",
    "from query.queries import *\n",
    "import plotly.express as px\n",
    "import plotly.io as pio\n",
    "pio.renderers.default = \"browser\"\n",
    "\n",
    "pd.options.display.max_rows = 999\n",
    "pd.options.display.max_columns = 999"
   ]
  },
  {
   "cell_type": "code",
   "execution_count": 2,
   "id": "c87047ac-b265-460a-a20d-2b917e3fa4fd",
   "metadata": {},
   "outputs": [],
   "source": [
    "cmemc_query_imp = Query(client_url_imp, client_id_imp, client_secret_imp , 'oauth')\n",
    "    \n",
    "fuseki_infai = Query(fuseki_endpoint_infai, fuseki_user_infai, fuseki_pw_infai, 'basic')\n",
    "\n",
    "fdquery = Query(\"http://localhost:5002/sparql\", is_fdq=True)"
   ]
  },
  {
   "cell_type": "raw",
   "id": "5201399f-4a4b-497e-a431-c7c5b6717563",
   "metadata": {},
   "source": [
    "fdquery.get_answer(queries.query_test_private_public, sparql1_1=True).head(2)\n",
    "fdquery.get_answer(queries.query_test_private_service_2, sparql1_1=True).head(2)\n",
    "fdquery.get_answer(queries.query_test_private_service, sparql1_1=True).head(2)"
   ]
  },
  {
   "cell_type": "code",
   "execution_count": null,
   "id": "21f35a34-c1cc-4a0d-9edf-ae8f19fc4530",
   "metadata": {},
   "outputs": [],
   "source": [
    "%%time\n",
    "query = \"\"\"\n",
    "PREFIX coy: <https://schema.coypu.org/global#>\n",
    "SELECT * WHERE \n",
    "{ SERVICE <https://implisense.coypu.org/dataplatform/proxy/default/sparql> \n",
    " { ?subject a coy:Port.\n",
    "   ?subject ?p ?o.\n",
    "           \n",
    "}\n",
    "}\"\"\"\n",
    "\n",
    "query1 = \"\"\"\n",
    "PREFIX coy: <https://schema.coypu.org/global#>\n",
    "SELECT * WHERE \n",
    "{  ?subject a ?class.\n",
    "}LIMIT 10\"\"\"\n",
    "\n",
    "cmemc_query_imp.post_query(query1)\n",
    "fuseki_infai.post_query(query1)\n",
    "fdquery.post_query(query, is_service=True)"
   ]
  },
  {
   "cell_type": "code",
   "execution_count": null,
   "id": "b7478032-6b6d-4e6c-8c3f-2c607b93a1e8",
   "metadata": {},
   "outputs": [],
   "source": []
  },
  {
   "cell_type": "code",
   "execution_count": null,
   "id": "9eb87d6d-a089-4713-9e51-3621705cfab6",
   "metadata": {},
   "outputs": [],
   "source": [
    "cmemc_query_imp.post_query(query_1)"
   ]
  },
  {
   "cell_type": "code",
   "execution_count": null,
   "id": "a1cf4dcc-0aca-4461-b71f-c6b5aae1bdaf",
   "metadata": {},
   "outputs": [],
   "source": [
    "query_1"
   ]
  },
  {
   "cell_type": "code",
   "execution_count": null,
   "id": "815e669d-34f1-4637-ab70-427021f4e240",
   "metadata": {},
   "outputs": [],
   "source": [
    "## GDP for different year for different countries\n",
    "\n",
    "df = pd.read_csv('../../query_results/gdp_per_capita_region_1.csv', encoding='utf-8')\n",
    "fig = px.scatter_geo(df, locations=\"country_code\", color=\"region1\",\n",
    "                     hover_name=\"country_name1\", size=\"gdp_capita\",\n",
    "                     animation_frame=\"year\",\n",
    "                     projection=\"equirectangular\")\n",
    "fig.update_layout(height=500, width=1000, margin={\"r\":0,\"t\":0,\"l\":0,\"b\":0})\n",
    "fig.show()"
   ]
  }
 ],
 "metadata": {
  "kernelspec": {
   "display_name": "Python 3 (ipykernel)",
   "language": "python",
   "name": "python3"
  },
  "language_info": {
   "codemirror_mode": {
    "name": "ipython",
    "version": 3
   },
   "file_extension": ".py",
   "mimetype": "text/x-python",
   "name": "python",
   "nbconvert_exporter": "python",
   "pygments_lexer": "ipython3",
   "version": "3.9.13"
  }
 },
 "nbformat": 4,
 "nbformat_minor": 5
}
