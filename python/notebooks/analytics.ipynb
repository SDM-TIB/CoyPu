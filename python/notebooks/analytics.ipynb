{
 "cells": [
  {
   "cell_type": "code",
   "execution_count": 1,
   "id": "75394514-8b89-4c8c-987c-3207f9c03d17",
   "metadata": {},
   "outputs": [
    {
     "name": "stdout",
     "output_type": "stream",
     "text": [
      "coypu.utils\n"
     ]
    }
   ],
   "source": [
    "import pandas as pd\n",
    "from coypu.utils import query\n",
    "from query import queries\n",
    "\n",
    "pd.options.display.max_rows = 999\n",
    "pd.options.display.max_columns = 999"
   ]
  },
  {
   "cell_type": "code",
   "execution_count": 2,
   "id": "c87047ac-b265-460a-a20d-2b917e3fa4fd",
   "metadata": {},
   "outputs": [],
   "source": [
    "# sparql_endpoints\n",
    "\n",
    "cmemc_query_imp = query.CMEMCQuery(query.client_url_imp, query.client_id_imp, query.client_secret_imp)\n",
    "    \n",
    "fuseki_infai = query.FusekiQuery(query.fuseki_endpoint_infai, query.fuseki_user_infai, query.fuseki_pw_infai)\n",
    "\n",
    "fdquery = query.FDQuery(\"http://localhost:5002/sparql\")"
   ]
  },
  {
   "cell_type": "raw",
   "id": "5201399f-4a4b-497e-a431-c7c5b6717563",
   "metadata": {},
   "source": [
    "fdquery.get_answer(queries.query_test_private_public, sparql1_1=True).head(2)\n",
    "fdquery.get_answer(queries.query_test_private_service_2, sparql1_1=True).head(2)\n",
    "fdquery.get_answer(queries.query_test_private_service, sparql1_1=True).head(2)"
   ]
  },
  {
   "cell_type": "code",
   "execution_count": 3,
   "id": "21f35a34-c1cc-4a0d-9edf-ae8f19fc4530",
   "metadata": {},
   "outputs": [
    {
     "name": "stdout",
     "output_type": "stream",
     "text": [
      "Passed Query: test\n",
      "Total time taken by get_answer function: 52.55180883407593\n",
      "CPU times: user 398 ms, sys: 164 ms, total: 562 ms\n",
      "Wall time: 52.6 s\n"
     ]
    },
    {
     "data": {
      "text/plain": [
       "True"
      ]
     },
     "execution_count": 3,
     "metadata": {},
     "output_type": "execute_result"
    }
   ],
   "source": [
    "%%time\n",
    "query = \"\"\"\n",
    "PREFIX coy: <https://schema.coypu.org/global#>\n",
    "SELECT * WHERE \n",
    "{ SERVICE <https://implisense.coypu.org/dataplatform/proxy/default/sparql> \n",
    " { ?subject a coy:Port.\n",
    "   ?subject ?p ?o.\n",
    "           \n",
    "}\n",
    "}\"\"\"\n",
    "\n",
    "fdquery.get_answer(query, 'test', '../../query_results/', sparql1_1=True)\n"
   ]
  },
  {
   "cell_type": "code",
   "execution_count": null,
   "id": "18d6f094-970b-4b2c-a150-4bc5f3f8108e",
   "metadata": {},
   "outputs": [],
   "source": []
  },
  {
   "cell_type": "code",
   "execution_count": null,
   "id": "ed9b1e0a-726b-47af-9321-8933625bb6df",
   "metadata": {},
   "outputs": [],
   "source": [
    "# Processing Data\n",
    "from coypu.datasets import dataset\n",
    "from coypu.utils import functions\n",
    "import pandas as pd\n",
    "\n",
    "df = pd.read_csv('../../query_results/US_Accidents_Dec21_updated.csv', encoding='utf-8')\n",
    "\n",
    "print (df.columns)\n",
    "\n",
    "df.head(5)"
   ]
  },
  {
   "cell_type": "code",
   "execution_count": null,
   "id": "4cc83fde-8e93-4286-a750-7ae759515087",
   "metadata": {},
   "outputs": [],
   "source": [
    "def complete_address(row):\n",
    "    # row = row.City+' '+row.County+' '+row.State+' '+row.Zipcode+' '+row.Country\n",
    "    try:\n",
    "        row = ' '.join(map(str, row[13:18]))\n",
    "        return row\n",
    "    except:\n",
    "        return None\n",
    "\n",
    "# array_fast = dataset.FastArrayProcessing(add_text, df['Description'])\n",
    "\n",
    "array_fast = dataset.FastArrayProcessing(complete_address, df.values)"
   ]
  },
  {
   "cell_type": "code",
   "execution_count": null,
   "id": "8114ee5d-156c-4cdf-ad35-d25a89d57709",
   "metadata": {},
   "outputs": [],
   "source": [
    "df_m = array_fast.do_multiprocessing()\n",
    "df_m[0:10]"
   ]
  },
  {
   "cell_type": "code",
   "execution_count": null,
   "id": "46fa04fe-d3d6-40b3-839d-4ba55989d5e4",
   "metadata": {},
   "outputs": [],
   "source": [
    "df_par = array_fast.do_parallel_processing()\n",
    "df_par[0:10]"
   ]
  },
  {
   "cell_type": "code",
   "execution_count": null,
   "id": "0497e00f-6422-408d-a436-0ddac156c1e3",
   "metadata": {},
   "outputs": [],
   "source": [
    "df_batch = array_fast.do_batch_processing()\n",
    "df_batch[0:10]"
   ]
  },
  {
   "cell_type": "code",
   "execution_count": null,
   "id": "bc388e39-ed68-4147-bf0a-708109d14d49",
   "metadata": {},
   "outputs": [],
   "source": [
    "df_con = array_fast.do_concurrent()\n",
    "df_con[0:10]"
   ]
  },
  {
   "cell_type": "code",
   "execution_count": null,
   "id": "b7478032-6b6d-4e6c-8c3f-2c607b93a1e8",
   "metadata": {},
   "outputs": [],
   "source": []
  }
 ],
 "metadata": {
  "kernelspec": {
   "display_name": "Python 3 (ipykernel)",
   "language": "python",
   "name": "python3"
  },
  "language_info": {
   "codemirror_mode": {
    "name": "ipython",
    "version": 3
   },
   "file_extension": ".py",
   "mimetype": "text/x-python",
   "name": "python",
   "nbconvert_exporter": "python",
   "pygments_lexer": "ipython3",
   "version": "3.9.13"
  }
 },
 "nbformat": 4,
 "nbformat_minor": 5
}
