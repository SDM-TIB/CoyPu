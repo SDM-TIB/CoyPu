{
 "cells": [
  {
   "cell_type": "code",
   "execution_count": 1,
   "id": "75394514-8b89-4c8c-987c-3207f9c03d17",
   "metadata": {},
   "outputs": [
    {
     "name": "stdout",
     "output_type": "stream",
     "text": [
      "coypu.utils\n"
     ]
    }
   ],
   "source": [
    "import pandas as pd\n",
    "from coypu.utils import query\n",
    "from query import queries\n",
    "\n",
    "pd.options.display.max_rows = 999\n",
    "pd.options.display.max_columns = 999"
   ]
  },
  {
   "cell_type": "code",
   "execution_count": 2,
   "id": "c87047ac-b265-460a-a20d-2b917e3fa4fd",
   "metadata": {},
   "outputs": [],
   "source": [
    "# sparql_endpoints\n",
    "\n",
    "cmemc_query_imp = query.CMEMCQuery(query.client_url_imp, query.client_id_imp, query.client_secret_imp)\n",
    "    \n",
    "fuseki_infai = query.FusekiQuery(query.fuseki_endpoint_infai, query.fuseki_user_infai, query.fuseki_pw_infai)\n",
    "\n",
    "fdquery = query.FDQuery(\"http://localhost:5002/sparql\")"
   ]
  },
  {
   "cell_type": "code",
   "execution_count": 3,
   "id": "c3f45ffb-ce24-42e9-aac9-6b25d8980419",
   "metadata": {},
   "outputs": [
    {
     "name": "stdout",
     "output_type": "stream",
     "text": [
      "Total time taken by get_answer function: 0.28969407081604004\n"
     ]
    },
    {
     "data": {
      "text/html": [
       "<div>\n",
       "<style scoped>\n",
       "    .dataframe tbody tr th:only-of-type {\n",
       "        vertical-align: middle;\n",
       "    }\n",
       "\n",
       "    .dataframe tbody tr th {\n",
       "        vertical-align: top;\n",
       "    }\n",
       "\n",
       "    .dataframe thead th {\n",
       "        text-align: right;\n",
       "    }\n",
       "</style>\n",
       "<table border=\"1\" class=\"dataframe\">\n",
       "  <thead>\n",
       "    <tr style=\"text-align: right;\">\n",
       "      <th></th>\n",
       "      <th>subject</th>\n",
       "      <th>predicate</th>\n",
       "      <th>object</th>\n",
       "    </tr>\n",
       "  </thead>\n",
       "  <tbody>\n",
       "    <tr>\n",
       "      <th>0</th>\n",
       "      <td>http://www.w3.org/1999/02/22-rdf-syntax-ns#type</td>\n",
       "      <td>http://www.w3.org/1999/02/22-rdf-syntax-ns#type</td>\n",
       "      <td>http://www.w3.org/1999/02/22-rdf-syntax-ns#Pro...</td>\n",
       "    </tr>\n",
       "    <tr>\n",
       "      <th>1</th>\n",
       "      <td>http://www.w3.org/1999/02/22-rdf-syntax-ns#Pro...</td>\n",
       "      <td>http://www.w3.org/1999/02/22-rdf-syntax-ns#type</td>\n",
       "      <td>http://www.w3.org/2000/01/rdf-schema#Class</td>\n",
       "    </tr>\n",
       "    <tr>\n",
       "      <th>2</th>\n",
       "      <td>http://www.w3.org/1999/02/22-rdf-syntax-ns#Pro...</td>\n",
       "      <td>http://www.w3.org/1999/02/22-rdf-syntax-ns#type</td>\n",
       "      <td>http://www.w3.org/2000/01/rdf-schema#Resource</td>\n",
       "    </tr>\n",
       "    <tr>\n",
       "      <th>3</th>\n",
       "      <td>http://www.w3.org/2000/01/rdf-schema#Class</td>\n",
       "      <td>http://www.w3.org/1999/02/22-rdf-syntax-ns#type</td>\n",
       "      <td>http://www.w3.org/2000/01/rdf-schema#Class</td>\n",
       "    </tr>\n",
       "    <tr>\n",
       "      <th>4</th>\n",
       "      <td>http://www.w3.org/2000/01/rdf-schema#Class</td>\n",
       "      <td>http://www.w3.org/1999/02/22-rdf-syntax-ns#type</td>\n",
       "      <td>http://www.w3.org/2000/01/rdf-schema#Resource</td>\n",
       "    </tr>\n",
       "  </tbody>\n",
       "</table>\n",
       "</div>"
      ],
      "text/plain": [
       "                                             subject  \\\n",
       "0    http://www.w3.org/1999/02/22-rdf-syntax-ns#type   \n",
       "1  http://www.w3.org/1999/02/22-rdf-syntax-ns#Pro...   \n",
       "2  http://www.w3.org/1999/02/22-rdf-syntax-ns#Pro...   \n",
       "3         http://www.w3.org/2000/01/rdf-schema#Class   \n",
       "4         http://www.w3.org/2000/01/rdf-schema#Class   \n",
       "\n",
       "                                         predicate  \\\n",
       "0  http://www.w3.org/1999/02/22-rdf-syntax-ns#type   \n",
       "1  http://www.w3.org/1999/02/22-rdf-syntax-ns#type   \n",
       "2  http://www.w3.org/1999/02/22-rdf-syntax-ns#type   \n",
       "3  http://www.w3.org/1999/02/22-rdf-syntax-ns#type   \n",
       "4  http://www.w3.org/1999/02/22-rdf-syntax-ns#type   \n",
       "\n",
       "                                              object  \n",
       "0  http://www.w3.org/1999/02/22-rdf-syntax-ns#Pro...  \n",
       "1         http://www.w3.org/2000/01/rdf-schema#Class  \n",
       "2      http://www.w3.org/2000/01/rdf-schema#Resource  \n",
       "3         http://www.w3.org/2000/01/rdf-schema#Class  \n",
       "4      http://www.w3.org/2000/01/rdf-schema#Resource  "
      ]
     },
     "execution_count": 3,
     "metadata": {},
     "output_type": "execute_result"
    }
   ],
   "source": [
    "# test query for connection\n",
    "df = cmemc_query_imp.get_answer(queries.query_0)\n",
    "df.head(5)"
   ]
  },
  {
   "cell_type": "code",
   "execution_count": 4,
   "id": "0b4a74df-990b-49f8-b6ce-d66854d861f5",
   "metadata": {},
   "outputs": [
    {
     "name": "stdout",
     "output_type": "stream",
     "text": [
      "Query1: percentage of fatalities with respect to country population in a year\n"
     ]
    }
   ],
   "source": [
    "print(queries.query_1_desc)\n",
    "# df = cmemc_query_imp.get_answer(queries.query_1)\n",
    "# df.head(2)"
   ]
  },
  {
   "cell_type": "code",
   "execution_count": 5,
   "id": "92d1a2e1-3fba-489c-99b5-db842ef10343",
   "metadata": {},
   "outputs": [
    {
     "name": "stdout",
     "output_type": "stream",
     "text": [
      "{\"cardinality\":10,\"execution_time\":1.3679733276367188,\"head\":{\"vars\":[\"s\"]},\"output_version\":\"2.0\",\"results\":{\"bindings\":[{\"__meta__\":{\"is_verified\":true},\"s\":{\"type\":\"uri\",\"value\":\"http://www.openlinksw.com/virtrdf-data-formats#default-iid\"}},{\"__meta__\":{\"is_verified\":true},\"s\":{\"type\":\"uri\",\"value\":\"http://www.openlinksw.com/virtrdf-data-formats#default-iid-nullable\"}},{\"__meta__\":{\"is_verified\":true},\"s\":{\"type\":\"uri\",\"value\":\"http://www.openlinksw.com/virtrdf-data-formats#default-iid-nonblank\"}},{\"__meta__\":{\"is_verified\":true},\"s\":{\"type\":\"uri\",\"value\":\"http://www.openlinksw.com/virtrdf-data-formats#default-iid-nonblank-nullable\"}},{\"__meta__\":{\"is_verified\":true},\"s\":{\"type\":\"uri\",\"value\":\"http://www.openlinksw.com/virtrdf-data-formats#default\"}},{\"__meta__\":{\"is_verified\":true},\"s\":{\"type\":\"uri\",\"value\":\"http://www.openlinksw.com/virtrdf-data-formats#default-nullable\"}},{\"__meta__\":{\"is_verified\":true},\"s\":{\"type\":\"uri\",\"value\":\"http://www.openlinksw.com/virtrdf-data-formats#sql-varchar\"}},{\"__meta__\":{\"is_verified\":true},\"s\":{\"type\":\"uri\",\"value\":\"http://www.openlinksw.com/virtrdf-data-formats#sql-varchar-nullable\"}},{\"__meta__\":{\"is_verified\":true},\"s\":{\"type\":\"uri\",\"value\":\"http://www.openlinksw.com/virtrdf-data-formats#sql-varchar-dt\"}},{\"__meta__\":{\"is_verified\":true},\"s\":{\"type\":\"uri\",\"value\":\"http://www.openlinksw.com/virtrdf-data-formats#sql-varchar-dt-nullable\"}}]}}\n",
      "\n",
      "{\"cardinality\":10,\"execution_time\":1.3679733276367188,\"head\":{\"vars\":[\"s\"]},\"output_version\":\"2.0\",\"results\":{\"bindings\":[{\"__meta__\":{\"is_verified\":true},\"s\":{\"type\":\"uri\",\"value\":\"http://www.openlinksw.com/virtrdf-data-formats#default-iid\"}},{\"__meta__\":{\"is_verified\":true},\"s\":{\"type\":\"uri\",\"value\":\"http://www.openlinksw.com/virtrdf-data-formats#default-iid-nullable\"}},{\"__meta__\":{\"is_verified\":true},\"s\":{\"type\":\"uri\",\"value\":\"http://www.openlinksw.com/virtrdf-data-formats#default-iid-nonblank\"}},{\"__meta__\":{\"is_verified\":true},\"s\":{\"type\":\"uri\",\"value\":\"http://www.openlinksw.com/virtrdf-data-formats#default-iid-nonblank-nullable\"}},{\"__meta__\":{\"is_verified\":true},\"s\":{\"type\":\"uri\",\"value\":\"http://www.openlinksw.com/virtrdf-data-formats#default\"}},{\"__meta__\":{\"is_verified\":true},\"s\":{\"type\":\"uri\",\"value\":\"http://www.openlinksw.com/virtrdf-data-formats#default-nullable\"}},{\"__meta__\":{\"is_verified\":true},\"s\":{\"type\":\"uri\",\"value\":\"http://www.openlinksw.com/virtrdf-data-formats#sql-varchar\"}},{\"__meta__\":{\"is_verified\":true},\"s\":{\"type\":\"uri\",\"value\":\"http://www.openlinksw.com/virtrdf-data-formats#sql-varchar-nullable\"}},{\"__meta__\":{\"is_verified\":true},\"s\":{\"type\":\"uri\",\"value\":\"http://www.openlinksw.com/virtrdf-data-formats#sql-varchar-dt\"}},{\"__meta__\":{\"is_verified\":true},\"s\":{\"type\":\"uri\",\"value\":\"http://www.openlinksw.com/virtrdf-data-formats#sql-varchar-dt-nullable\"}}]}}\n",
      "\n",
      "Total time taken by get_answer function: 1.408876895904541\n"
     ]
    },
    {
     "data": {
      "text/html": [
       "<div>\n",
       "<style scoped>\n",
       "    .dataframe tbody tr th:only-of-type {\n",
       "        vertical-align: middle;\n",
       "    }\n",
       "\n",
       "    .dataframe tbody tr th {\n",
       "        vertical-align: top;\n",
       "    }\n",
       "\n",
       "    .dataframe thead th {\n",
       "        text-align: right;\n",
       "    }\n",
       "</style>\n",
       "<table border=\"1\" class=\"dataframe\">\n",
       "  <thead>\n",
       "    <tr style=\"text-align: right;\">\n",
       "      <th></th>\n",
       "      <th>cardinality</th>\n",
       "      <th>execution_time</th>\n",
       "      <th>head</th>\n",
       "      <th>output_version</th>\n",
       "      <th>results</th>\n",
       "    </tr>\n",
       "  </thead>\n",
       "  <tbody>\n",
       "    <tr>\n",
       "      <th>vars</th>\n",
       "      <td>10</td>\n",
       "      <td>1.367973</td>\n",
       "      <td>[s]</td>\n",
       "      <td>2</td>\n",
       "      <td>NaN</td>\n",
       "    </tr>\n",
       "    <tr>\n",
       "      <th>bindings</th>\n",
       "      <td>10</td>\n",
       "      <td>1.367973</td>\n",
       "      <td>NaN</td>\n",
       "      <td>2</td>\n",
       "      <td>[{'__meta__': {'is_verified': True}, 's': {'ty...</td>\n",
       "    </tr>\n",
       "  </tbody>\n",
       "</table>\n",
       "</div>"
      ],
      "text/plain": [
       "          cardinality  execution_time head  output_version  \\\n",
       "vars               10        1.367973  [s]               2   \n",
       "bindings           10        1.367973  NaN               2   \n",
       "\n",
       "                                                    results  \n",
       "vars                                                    NaN  \n",
       "bindings  [{'__meta__': {'is_verified': True}, 's': {'ty...  "
      ]
     },
     "execution_count": 5,
     "metadata": {},
     "output_type": "execute_result"
    }
   ],
   "source": [
    "fdquery.get_answer(\"SELECT ?s WHERE { ?s a ?o } LIMIT 10\")"
   ]
  },
  {
   "cell_type": "code",
   "execution_count": 6,
   "id": "c7b489fe-ae7e-40b0-b241-4fd7214751f7",
   "metadata": {},
   "outputs": [
    {
     "name": "stdout",
     "output_type": "stream",
     "text": [
      "Query 2: Germany WB indicators for year 2021\n",
      "{\"error\":\"['Traceback (most recent call last):\\\\n', '  File \\\"/DeTrusty/DeTrusty/App/flaskr.py\\\", line 43, in sparql\\\\n    run_query(\\\\n', '  File \\\"/DeTrusty/DeTrusty/__init__.py\\\", line 71, in run_query\\\\n    decomposer = Decomposer(query, config,\\\\n', '  File \\\"/DeTrusty/DeTrusty/Decomposer/Decomposer.py\\\", line 22, in __init__\\\\n    self.query = queryParser.parse(query)\\\\n', '  File \\\"/DeTrusty/DeTrusty/Sparql/Parser/queryParser.py\\\", line 1135, in parse\\\\n    return parser.parse(urllib.parse.unquote(string), lexer=lexer)\\\\n', '  File \\\"/usr/local/lib/python3.9/site-packages/ply/yacc.py\\\", line 333, in parse\\\\n    return self.parseopt_notrack(input, lexer, debug, tracking, tokenfunc)\\\\n', '  File \\\"/usr/local/lib/python3.9/site-packages/ply/yacc.py\\\", line 1201, in parseopt_notrack\\\\n    tok = call_errorfunc(self.errorfunc, errtoken, self)\\\\n', '  File \\\"/usr/local/lib/python3.9/site-packages/ply/yacc.py\\\", line 192, in call_errorfunc\\\\n    r = errorfunc(token)\\\\n', '  File \\\"/DeTrusty/DeTrusty/Sparql/Parser/queryParser.py\\\", line 1127, in p_error\\\\n    raise TypeError(\\\"unknown text at %r\\\" % (value,))\\\\n', \\\"TypeError: unknown text at '('\\\\n\\\"]\",\"result\":[]}\n",
      "\n",
      "{\"error\":\"['Traceback (most recent call last):\\\\n', '  File \\\"/DeTrusty/DeTrusty/App/flaskr.py\\\", line 43, in sparql\\\\n    run_query(\\\\n', '  File \\\"/DeTrusty/DeTrusty/__init__.py\\\", line 71, in run_query\\\\n    decomposer = Decomposer(query, config,\\\\n', '  File \\\"/DeTrusty/DeTrusty/Decomposer/Decomposer.py\\\", line 22, in __init__\\\\n    self.query = queryParser.parse(query)\\\\n', '  File \\\"/DeTrusty/DeTrusty/Sparql/Parser/queryParser.py\\\", line 1135, in parse\\\\n    return parser.parse(urllib.parse.unquote(string), lexer=lexer)\\\\n', '  File \\\"/usr/local/lib/python3.9/site-packages/ply/yacc.py\\\", line 333, in parse\\\\n    return self.parseopt_notrack(input, lexer, debug, tracking, tokenfunc)\\\\n', '  File \\\"/usr/local/lib/python3.9/site-packages/ply/yacc.py\\\", line 1201, in parseopt_notrack\\\\n    tok = call_errorfunc(self.errorfunc, errtoken, self)\\\\n', '  File \\\"/usr/local/lib/python3.9/site-packages/ply/yacc.py\\\", line 192, in call_errorfunc\\\\n    r = errorfunc(token)\\\\n', '  File \\\"/DeTrusty/DeTrusty/Sparql/Parser/queryParser.py\\\", line 1127, in p_error\\\\n    raise TypeError(\\\"unknown text at %r\\\" % (value,))\\\\n', \\\"TypeError: unknown text at '('\\\\n\\\"]\",\"result\":[]}\n",
      "\n",
      "Total time taken by get_answer function: 0.06622886657714844\n"
     ]
    },
    {
     "data": {
      "text/html": [
       "<div>\n",
       "<style scoped>\n",
       "    .dataframe tbody tr th:only-of-type {\n",
       "        vertical-align: middle;\n",
       "    }\n",
       "\n",
       "    .dataframe tbody tr th {\n",
       "        vertical-align: top;\n",
       "    }\n",
       "\n",
       "    .dataframe thead th {\n",
       "        text-align: right;\n",
       "    }\n",
       "</style>\n",
       "<table border=\"1\" class=\"dataframe\">\n",
       "  <thead>\n",
       "    <tr style=\"text-align: right;\">\n",
       "      <th></th>\n",
       "      <th>error</th>\n",
       "      <th>result</th>\n",
       "    </tr>\n",
       "  </thead>\n",
       "  <tbody>\n",
       "  </tbody>\n",
       "</table>\n",
       "</div>"
      ],
      "text/plain": [
       "Empty DataFrame\n",
       "Columns: [error, result]\n",
       "Index: []"
      ]
     },
     "execution_count": 6,
     "metadata": {},
     "output_type": "execute_result"
    }
   ],
   "source": [
    "print(queries.query_2_desc)\n",
    "df = fdquery.get_answer(queries.query_2)\n",
    "df"
   ]
  },
  {
   "cell_type": "code",
   "execution_count": 7,
   "id": "6bbc5737-8d72-46d9-aed2-756266aed8c6",
   "metadata": {},
   "outputs": [
    {
     "name": "stdout",
     "output_type": "stream",
     "text": [
      "PREFIX coy: <https://schema.coypu.org/global#>\n",
      "PREFIX rdfs: <http://www.w3.org/2000/01/rdf-schema#>\n",
      "PREFIX xsd: <http://www.w3.org/2001/XMLSchema#>\n",
      "PREFIX owl: <http://www.w3.org/2002/07/owl#>\n",
      "PREFIX skos: <http://www.w3.org/2004/02/skos/core#>\n",
      "PREFIX time: <http://www.w3.org/2006/time#> \n",
      "PREFIX wd: <http://www.wikidata.org/entity/>\n",
      "PREFIX wds: <http://www.wikidata.org/entity/statement/>\n",
      "PREFIX wdv: <http://www.wikidata.org/value/>\n",
      "PREFIX wdt: <http://www.wikidata.org/prop/direct/>\n",
      "PREFIX wikibase: <http://wikiba.se/ontology#>\n",
      "PREFIX p: <http://www.wikidata.org/prop/>\n",
      "PREFIX ps: <http://www.wikidata.org/prop/statement/>\n",
      "PREFIX pq: <http://www.wikidata.org/prop/qualifier/>\n",
      "PREFIX bd: <http://www.bigdata.com/rdf#>\n",
      "PREFIX wb: <http://worldbank.org/>\n",
      "select ?location ?location1 ?year ?topic ?indicator ?indicator_label ?indicator_note (avg(?value) as ?avg_value)\n",
      "where {\n",
      "    ?country a wb:AnnualIndicatorEntry;\n",
      "            wb:hasTopic ?topic;\n",
      "            wb:hasIndicator ?indicator;\n",
      "            wb:hasCountry ?location;\n",
      "            owl:hasValue ?value;\n",
      "            time:year ?year.\n",
      "            optional {?indicator rdfs:label ?indicator_label}\n",
      "optional {?indicator skos:note  ?indicator_note }\n",
      "bind(replace(str(?location),\"http://worldbank.org/Country/\", \"\") as ?location1 )\n",
      "filter(?year=2021 && ?location=<http://worldbank.org/Country/DEU>)\n",
      "}group by ?year ?location ?location1 ?topic ?indicator ?indicator_label ?indicator_note\n",
      "order by ?location ?location1 ?year\n",
      "limit 2000\n",
      "\n"
     ]
    }
   ],
   "source": [
    "print(queries.query_2)"
   ]
  },
  {
   "cell_type": "code",
   "execution_count": 8,
   "id": "e60bae84-6e61-4592-b39a-45980465d3c4",
   "metadata": {},
   "outputs": [
    {
     "name": "stdout",
     "output_type": "stream",
     "text": [
      "{\"cardinality\":100,\"execution_time\":1.4584159851074219,\"head\":{\"vars\":[\"s\"]},\"output_version\":\"2.0\",\"results\":{\"bindings\":[{\"__meta__\":{\"is_verified\":true},\"s\":{\"type\":\"uri\",\"value\":\"http://worldbank.org/economy-and-growth/Country/WLD/Indicator/BG.GSR.NFSV.GD.ZS/Year/1981\"}},{\"__meta__\":{\"is_verified\":true},\"s\":{\"type\":\"uri\",\"value\":\"http://worldbank.org/economy-and-growth/Country/WLD/Indicator/BM.GSR.CMCP.ZS/Year/1981\"}},{\"__meta__\":{\"is_verified\":true},\"s\":{\"type\":\"uri\",\"value\":\"http://worldbank.org/economy-and-growth/Country/WLD/Indicator/BM.GSR.FCTY.CD/Year/1981\"}},{\"__meta__\":{\"is_verified\":true},\"s\":{\"type\":\"uri\",\"value\":\"http://worldbank.org/economy-and-growth/Country/WLD/Indicator/BM.GSR.GNFS.CD/Year/1981\"}},{\"__meta__\":{\"is_verified\":true},\"s\":{\"type\":\"uri\",\"value\":\"http://worldbank.org/economy-and-growth/Country/WLD/Indicator/BM.GSR.INSF.ZS/Year/1981\"}},{\"__meta__\":{\"is_verified\":true},\"s\":{\"type\":\"uri\",\"value\":\"http://worldbank.org/economy-and-growth/Country/WLD/Indicator/BM.GSR.MRCH.CD/Year/1981\"}},{\"__meta__\":{\"is_verified\":true},\"s\":{\"type\":\"uri\",\"value\":\"http://worldbank.org/economy-and-growth/Country/WLD/Indicator/BM.GSR.NFSV.CD/Year/1981\"}},{\"__meta__\":{\"is_verified\":true},\"s\":{\"type\":\"uri\",\"value\":\"http://worldbank.org/economy-and-growth/Country/WLD/Indicator/BM.GSR.ROYL.CD/Year/1981\"}},{\"__meta__\":{\"is_verified\":true},\"s\":{\"type\":\"uri\",\"value\":\"http://worldbank.org/economy-and-growth/Country/WLD/Indicator/BM.GSR.TOTL.CD/Year/1981\"}},{\"__meta__\":{\"is_verified\":true},\"s\":{\"type\":\"uri\",\"value\":\"http://worldbank.org/economy-and-growth/Country/WLD/Indicator/BM.GSR.TRAN.ZS/Year/1981\"}},{\"__meta__\":{\"is_verified\":true},\"s\":{\"type\":\"uri\",\"value\":\"http://worldbank.org/economy-and-growth/Country/WLD/Indicator/BM.GSR.TRVL.ZS/Year/1981\"}},{\"__meta__\":{\"is_verified\":true},\"s\":{\"type\":\"uri\",\"value\":\"http://worldbank.org/economy-and-growth/Country/WLD/Indicator/BM.KLT.DINV.CD.WD/Year/1981\"}},{\"__meta__\":{\"is_verified\":true},\"s\":{\"type\":\"uri\",\"value\":\"http://worldbank.org/economy-and-growth/Country/WLD/Indicator/BM.KLT.DINV.WD.GD.ZS/Year/1981\"}},{\"__meta__\":{\"is_verified\":true},\"s\":{\"type\":\"uri\",\"value\":\"http://worldbank.org/economy-and-growth/Country/WLD/Indicator/BM.TRF.PRVT.CD/Year/1981\"}},{\"__meta__\":{\"is_verified\":true},\"s\":{\"type\":\"uri\",\"value\":\"http://worldbank.org/economy-and-growth/Country/WLD/Indicator/BM.TRF.PWKR.CD.DT/Year/1981\"}},{\"__meta__\":{\"is_verified\":true},\"s\":{\"type\":\"uri\",\"value\":\"http://worldbank.org/economy-and-growth/Country/WLD/Indicator/BN.CAB.XOKA.CD/Year/1981\"}},{\"__meta__\":{\"is_verified\":true},\"s\":{\"type\":\"uri\",\"value\":\"http://worldbank.org/economy-and-growth/Country/WLD/Indicator/BN.CAB.XOKA.GD.ZS/Year/1981\"}},{\"__meta__\":{\"is_verified\":true},\"s\":{\"type\":\"uri\",\"value\":\"http://worldbank.org/economy-and-growth/Country/WLD/Indicator/BN.FIN.TOTL.CD/Year/1981\"}},{\"__meta__\":{\"is_verified\":true},\"s\":{\"type\":\"uri\",\"value\":\"http://worldbank.org/economy-and-growth/Country/WLD/Indicator/BN.GSR.FCTY.CD/Year/1981\"}},{\"__meta__\":{\"is_verified\":true},\"s\":{\"type\":\"uri\",\"value\":\"http://worldbank.org/economy-and-growth/Country/WLD/Indicator/BN.GSR.GNFS.CD/Year/1981\"}},{\"__meta__\":{\"is_verified\":true},\"s\":{\"type\":\"uri\",\"value\":\"http://worldbank.org/economy-and-growth/Country/WLD/Indicator/BN.GSR.MRCH.CD/Year/1981\"}},{\"__meta__\":{\"is_verified\":true},\"s\":{\"type\":\"uri\",\"value\":\"http://worldbank.org/economy-and-growth/Country/WLD/Indicator/BN.KAC.EOMS.CD/Year/1981\"}},{\"__meta__\":{\"is_verified\":true},\"s\":{\"type\":\"uri\",\"value\":\"http://worldbank.org/economy-and-growth/Country/WLD/Indicator/BN.KLT.DINV.CD/Year/1981\"}},{\"__meta__\":{\"is_verified\":true},\"s\":{\"type\":\"uri\",\"value\":\"http://worldbank.org/economy-and-growth/Country/WLD/Indicator/BN.KLT.PTXL.CD/Year/1981\"}},{\"__meta__\":{\"is_verified\":true},\"s\":{\"type\":\"uri\",\"value\":\"http://worldbank.org/economy-and-growth/Country/WLD/Indicator/BN.RES.INCL.CD/Year/1981\"}},{\"__meta__\":{\"is_verified\":true},\"s\":{\"type\":\"uri\",\"value\":\"http://worldbank.org/economy-and-growth/Country/WLD/Indicator/BN.TRF.CURR.CD/Year/1981\"}},{\"__meta__\":{\"is_verified\":true},\"s\":{\"type\":\"uri\",\"value\":\"http://worldbank.org/economy-and-growth/Country/WLD/Indicator/BN.TRF.KOGT.CD/Year/1981\"}},{\"__meta__\":{\"is_verified\":true},\"s\":{\"type\":\"uri\",\"value\":\"http://worldbank.org/economy-and-growth/Country/WLD/Indicator/BX.GRT.EXTA.CD.WD/Year/1981\"}},{\"__meta__\":{\"is_verified\":true},\"s\":{\"type\":\"uri\",\"value\":\"http://worldbank.org/economy-and-growth/Country/WLD/Indicator/BX.GRT.TECH.CD.WD/Year/1981\"}},{\"__meta__\":{\"is_verified\":true},\"s\":{\"type\":\"uri\",\"value\":\"http://worldbank.org/economy-and-growth/Country/WLD/Indicator/BX.GSR.CCIS.CD/Year/1981\"}},{\"__meta__\":{\"is_verified\":true},\"s\":{\"type\":\"uri\",\"value\":\"http://worldbank.org/economy-and-growth/Country/WLD/Indicator/BX.GSR.CCIS.ZS/Year/1981\"}},{\"__meta__\":{\"is_verified\":true},\"s\":{\"type\":\"uri\",\"value\":\"http://worldbank.org/economy-and-growth/Country/WLD/Indicator/BX.GSR.CMCP.ZS/Year/1981\"}},{\"__meta__\":{\"is_verified\":true},\"s\":{\"type\":\"uri\",\"value\":\"http://worldbank.org/economy-and-growth/Country/WLD/Indicator/BX.GSR.FCTY.CD/Year/1981\"}},{\"__meta__\":{\"is_verified\":true},\"s\":{\"type\":\"uri\",\"value\":\"http://worldbank.org/economy-and-growth/Country/WLD/Indicator/BX.GSR.GNFS.CD/Year/1981\"}},{\"__meta__\":{\"is_verified\":true},\"s\":{\"type\":\"uri\",\"value\":\"http://worldbank.org/economy-and-growth/Country/WLD/Indicator/BX.GSR.INSF.ZS/Year/1981\"}},{\"__meta__\":{\"is_verified\":true},\"s\":{\"type\":\"uri\",\"value\":\"http://worldbank.org/economy-and-growth/Country/WLD/Indicator/BX.GSR.MRCH.CD/Year/1981\"}},{\"__meta__\":{\"is_verified\":true},\"s\":{\"type\":\"uri\",\"value\":\"http://worldbank.org/economy-and-growth/Country/WLD/Indicator/BX.GSR.NFSV.CD/Year/1981\"}},{\"__meta__\":{\"is_verified\":true},\"s\":{\"type\":\"uri\",\"value\":\"http://worldbank.org/economy-and-growth/Country/WLD/Indicator/BX.GSR.ROYL.CD/Year/1981\"}},{\"__meta__\":{\"is_verified\":true},\"s\":{\"type\":\"uri\",\"value\":\"http://worldbank.org/economy-and-growth/Country/WLD/Indicator/BX.GSR.TOTL.CD/Year/1981\"}},{\"__meta__\":{\"is_verified\":true},\"s\":{\"type\":\"uri\",\"value\":\"http://worldbank.org/economy-and-growth/Country/WLD/Indicator/BX.GSR.TRAN.ZS/Year/1981\"}},{\"__meta__\":{\"is_verified\":true},\"s\":{\"type\":\"uri\",\"value\":\"http://worldbank.org/economy-and-growth/Country/WLD/Indicator/BX.GSR.TRVL.ZS/Year/1981\"}},{\"__meta__\":{\"is_verified\":true},\"s\":{\"type\":\"uri\",\"value\":\"http://worldbank.org/economy-and-growth/Country/WLD/Indicator/BX.KLT.DINV.CD.WD/Year/1981\"}},{\"__meta__\":{\"is_verified\":true},\"s\":{\"type\":\"uri\",\"value\":\"http://worldbank.org/economy-and-growth/Country/WLD/Indicator/BX.KLT.DINV.WD.GD.ZS/Year/1981\"}},{\"__meta__\":{\"is_verified\":true},\"s\":{\"type\":\"uri\",\"value\":\"http://worldbank.org/economy-and-growth/Country/WLD/Indicator/BX.PEF.TOTL.CD.WD/Year/1981\"}},{\"__meta__\":{\"is_verified\":true},\"s\":{\"type\":\"uri\",\"value\":\"http://worldbank.org/economy-and-growth/Country/WLD/Indicator/BX.TRF.CURR.CD/Year/1981\"}},{\"__meta__\":{\"is_verified\":true},\"s\":{\"type\":\"uri\",\"value\":\"http://worldbank.org/economy-and-growth/Country/WLD/Indicator/BX.TRF.PWKR.CD.DT/Year/1981\"}},{\"__meta__\":{\"is_verified\":true},\"s\":{\"type\":\"uri\",\"value\":\"http://worldbank.org/economy-and-growth/Country/WLD/Indicator/BX.TRF.PWKR.CD/Year/1981\"}},{\"__meta__\":{\"is_verified\":true},\"s\":{\"type\":\"uri\",\"value\":\"http://worldbank.org/economy-and-growth/Country/WLD/Indicator/BX.TRF.PWKR.DT.GD.ZS/Year/1981\"}},{\"__meta__\":{\"is_verified\":true},\"s\":{\"type\":\"uri\",\"value\":\"http://worldbank.org/economy-and-growth/Country/WLD/Indicator/DT.DOD.DECT.CD/Year/1981\"}},{\"__meta__\":{\"is_verified\":true},\"s\":{\"type\":\"uri\",\"value\":\"http://worldbank.org/economy-and-growth/Country/WLD/Indicator/DT.DOD.DECT.GN.ZS/Year/1981\"}},{\"__meta__\":{\"is_verified\":true},\"s\":{\"type\":\"uri\",\"value\":\"http://worldbank.org/economy-and-growth/Country/WLD/Indicator/DT.DOD.DSTC.IR.ZS/Year/1981\"}},{\"__meta__\":{\"is_verified\":true},\"s\":{\"type\":\"uri\",\"value\":\"http://worldbank.org/economy-and-growth/Country/WLD/Indicator/DT.DOD.DSTC.XP.ZS/Year/1981\"}},{\"__meta__\":{\"is_verified\":true},\"s\":{\"type\":\"uri\",\"value\":\"http://worldbank.org/economy-and-growth/Country/WLD/Indicator/DT.DOD.PVLX.CD/Year/1981\"}},{\"__meta__\":{\"is_verified\":true},\"s\":{\"type\":\"uri\",\"value\":\"http://worldbank.org/economy-and-growth/Country/WLD/Indicator/DT.DOD.PVLX.EX.ZS/Year/1981\"}},{\"__meta__\":{\"is_verified\":true},\"s\":{\"type\":\"uri\",\"value\":\"http://worldbank.org/economy-and-growth/Country/WLD/Indicator/DT.DOD.PVLX.GN.ZS/Year/1981\"}},{\"__meta__\":{\"is_verified\":true},\"s\":{\"type\":\"uri\",\"value\":\"http://worldbank.org/economy-and-growth/Country/WLD/Indicator/DT.ODA.ODAT.CD/Year/1981\"}},{\"__meta__\":{\"is_verified\":true},\"s\":{\"type\":\"uri\",\"value\":\"http://worldbank.org/economy-and-growth/Country/WLD/Indicator/DT.ODA.ODAT.GN.ZS/Year/1981\"}},{\"__meta__\":{\"is_verified\":true},\"s\":{\"type\":\"uri\",\"value\":\"http://worldbank.org/economy-and-growth/Country/WLD/Indicator/DT.ODA.ODAT.PC.ZS/Year/1981\"}},{\"__meta__\":{\"is_verified\":true},\"s\":{\"type\":\"uri\",\"value\":\"http://worldbank.org/economy-and-growth/Country/WLD/Indicator/DT.TDS.DECT.EX.ZS/Year/1981\"}},{\"__meta__\":{\"is_verified\":true},\"s\":{\"type\":\"uri\",\"value\":\"http://worldbank.org/economy-and-growth/Country/WLD/Indicator/DT.TDS.DECT.GN.ZS/Year/1981\"}},{\"__meta__\":{\"is_verified\":true},\"s\":{\"type\":\"uri\",\"value\":\"http://worldbank.org/economy-and-growth/Country/WLD/Indicator/FI.RES.TOTL.CD/Year/1981\"}},{\"__meta__\":{\"is_verified\":true},\"s\":{\"type\":\"uri\",\"value\":\"http://worldbank.org/economy-and-growth/Country/WLD/Indicator/FI.RES.XGLD.CD/Year/1981\"}},{\"__meta__\":{\"is_verified\":true},\"s\":{\"type\":\"uri\",\"value\":\"http://worldbank.org/economy-and-growth/Country/WLD/Indicator/FP.CPI.TOTL.ZG/Year/1981\"}},{\"__meta__\":{\"is_verified\":true},\"s\":{\"type\":\"uri\",\"value\":\"http://worldbank.org/economy-and-growth/Country/WLD/Indicator/GC.DOD.TOTL.GD.ZS/Year/1981\"}},{\"__meta__\":{\"is_verified\":true},\"s\":{\"type\":\"uri\",\"value\":\"http://worldbank.org/economy-and-growth/Country/WLD/Indicator/GC.REV.XGRT.GD.ZS/Year/1981\"}},{\"__meta__\":{\"is_verified\":true},\"s\":{\"type\":\"uri\",\"value\":\"http://worldbank.org/economy-and-growth/Country/WLD/Indicator/GC.XPN.TOTL.GD.ZS/Year/1981\"}},{\"__meta__\":{\"is_verified\":true},\"s\":{\"type\":\"uri\",\"value\":\"http://worldbank.org/economy-and-growth/Country/WLD/Indicator/NE.CON.GOVT.CD/Year/1981\"}},{\"__meta__\":{\"is_verified\":true},\"s\":{\"type\":\"uri\",\"value\":\"http://worldbank.org/economy-and-growth/Country/WLD/Indicator/NE.CON.GOVT.CN/Year/1981\"}},{\"__meta__\":{\"is_verified\":true},\"s\":{\"type\":\"uri\",\"value\":\"http://worldbank.org/economy-and-growth/Country/WLD/Indicator/NE.CON.GOVT.KD.ZG/Year/1981\"}},{\"__meta__\":{\"is_verified\":true},\"s\":{\"type\":\"uri\",\"value\":\"http://worldbank.org/economy-and-growth/Country/WLD/Indicator/NE.CON.GOVT.KD/Year/1981\"}},{\"__meta__\":{\"is_verified\":true},\"s\":{\"type\":\"uri\",\"value\":\"http://worldbank.org/economy-and-growth/Country/WLD/Indicator/NE.CON.GOVT.KN/Year/1981\"}},{\"__meta__\":{\"is_verified\":true},\"s\":{\"type\":\"uri\",\"value\":\"http://worldbank.org/economy-and-growth/Country/WLD/Indicator/NE.CON.GOVT.ZS/Year/1981\"}},{\"__meta__\":{\"is_verified\":true},\"s\":{\"type\":\"uri\",\"value\":\"http://worldbank.org/economy-and-growth/Country/WLD/Indicator/NE.CON.PRVT.CD/Year/1981\"}},{\"__meta__\":{\"is_verified\":true},\"s\":{\"type\":\"uri\",\"value\":\"http://worldbank.org/economy-and-growth/Country/WLD/Indicator/NE.CON.PRVT.CN.AD/Year/1981\"}},{\"__meta__\":{\"is_verified\":true},\"s\":{\"type\":\"uri\",\"value\":\"http://worldbank.org/economy-and-growth/Country/WLD/Indicator/NE.CON.PRVT.CN/Year/1981\"}},{\"__meta__\":{\"is_verified\":true},\"s\":{\"type\":\"uri\",\"value\":\"http://worldbank.org/economy-and-growth/Country/WLD/Indicator/NE.CON.PRVT.KD.ZG/Year/1981\"}},{\"__meta__\":{\"is_verified\":true},\"s\":{\"type\":\"uri\",\"value\":\"http://worldbank.org/economy-and-growth/Country/WLD/Indicator/NE.CON.PRVT.KD/Year/1981\"}},{\"__meta__\":{\"is_verified\":true},\"s\":{\"type\":\"uri\",\"value\":\"http://worldbank.org/economy-and-growth/Country/WLD/Indicator/NE.CON.PRVT.KN/Year/1981\"}},{\"__meta__\":{\"is_verified\":true},\"s\":{\"type\":\"uri\",\"value\":\"http://worldbank.org/economy-and-growth/Country/WLD/Indicator/NE.CON.PRVT.PC.KD.ZG/Year/1981\"}},{\"__meta__\":{\"is_verified\":true},\"s\":{\"type\":\"uri\",\"value\":\"http://worldbank.org/economy-and-growth/Country/WLD/Indicator/NE.CON.PRVT.PC.KD/Year/1981\"}},{\"__meta__\":{\"is_verified\":true},\"s\":{\"type\":\"uri\",\"value\":\"http://worldbank.org/economy-and-growth/Country/WLD/Indicator/NE.CON.PRVT.PP.CD/Year/1981\"}},{\"__meta__\":{\"is_verified\":true},\"s\":{\"type\":\"uri\",\"value\":\"http://worldbank.org/economy-and-growth/Country/WLD/Indicator/NE.CON.PRVT.PP.KD/Year/1981\"}},{\"__meta__\":{\"is_verified\":true},\"s\":{\"type\":\"uri\",\"value\":\"http://worldbank.org/economy-and-growth/Country/WLD/Indicator/NE.CON.PRVT.ZS/Year/1981\"}},{\"__meta__\":{\"is_verified\":true},\"s\":{\"type\":\"uri\",\"value\":\"http://worldbank.org/economy-and-growth/Country/WLD/Indicator/NE.CON.TOTL.CD/Year/1981\"}},{\"__meta__\":{\"is_verified\":true},\"s\":{\"type\":\"uri\",\"value\":\"http://worldbank.org/economy-and-growth/Country/WLD/Indicator/NE.CON.TOTL.CN/Year/1981\"}},{\"__meta__\":{\"is_verified\":true},\"s\":{\"type\":\"uri\",\"value\":\"http://worldbank.org/economy-and-growth/Country/WLD/Indicator/NE.CON.TOTL.KD.ZG/Year/1981\"}},{\"__meta__\":{\"is_verified\":true},\"s\":{\"type\":\"uri\",\"value\":\"http://worldbank.org/economy-and-growth/Country/WLD/Indicator/NE.CON.TOTL.KD/Year/1981\"}},{\"__meta__\":{\"is_verified\":true},\"s\":{\"type\":\"uri\",\"value\":\"http://worldbank.org/economy-and-growth/Country/WSM/Indicator/BG.GSR.NFSV.GD.ZS/Year/1981\"}},{\"__meta__\":{\"is_verified\":true},\"s\":{\"type\":\"uri\",\"value\":\"http://worldbank.org/economy-and-growth/Country/WSM/Indicator/BM.GSR.CMCP.ZS/Year/1981\"}},{\"__meta__\":{\"is_verified\":true},\"s\":{\"type\":\"uri\",\"value\":\"http://worldbank.org/economy-and-growth/Country/WSM/Indicator/BM.GSR.FCTY.CD/Year/1981\"}},{\"__meta__\":{\"is_verified\":true},\"s\":{\"type\":\"uri\",\"value\":\"http://worldbank.org/economy-and-growth/Country/WSM/Indicator/BM.GSR.GNFS.CD/Year/1981\"}},{\"__meta__\":{\"is_verified\":true},\"s\":{\"type\":\"uri\",\"value\":\"http://worldbank.org/economy-and-growth/Country/WSM/Indicator/BM.GSR.INSF.ZS/Year/1981\"}},{\"__meta__\":{\"is_verified\":true},\"s\":{\"type\":\"uri\",\"value\":\"http://worldbank.org/economy-and-growth/Country/WSM/Indicator/BM.GSR.MRCH.CD/Year/1981\"}},{\"__meta__\":{\"is_verified\":true},\"s\":{\"type\":\"uri\",\"value\":\"http://worldbank.org/economy-and-growth/Country/WSM/Indicator/BM.GSR.NFSV.CD/Year/1981\"}},{\"__meta__\":{\"is_verified\":true},\"s\":{\"type\":\"uri\",\"value\":\"http://worldbank.org/economy-and-growth/Country/WSM/Indicator/BM.GSR.ROYL.CD/Year/1981\"}},{\"__meta__\":{\"is_verified\":true},\"s\":{\"type\":\"uri\",\"value\":\"http://worldbank.org/economy-and-growth/Country/WSM/Indicator/BM.GSR.TOTL.CD/Year/1981\"}},{\"__meta__\":{\"is_verified\":true},\"s\":{\"type\":\"uri\",\"value\":\"http://worldbank.org/economy-and-growth/Country/WSM/Indicator/BM.GSR.TRAN.ZS/Year/1981\"}},{\"__meta__\":{\"is_verified\":true},\"s\":{\"type\":\"uri\",\"value\":\"http://worldbank.org/economy-and-growth/Country/WSM/Indicator/BM.GSR.TRVL.ZS/Year/1981\"}},{\"__meta__\":{\"is_verified\":true},\"s\":{\"type\":\"uri\",\"value\":\"http://worldbank.org/economy-and-growth/Country/WSM/Indicator/BM.KLT.DINV.CD.WD/Year/1981\"}},{\"__meta__\":{\"is_verified\":true},\"s\":{\"type\":\"uri\",\"value\":\"http://worldbank.org/economy-and-growth/Country/WSM/Indicator/BM.KLT.DINV.WD.GD.ZS/Year/1981\"}}]}}\n",
      "\n",
      "{\"cardinality\":100,\"execution_time\":1.4584159851074219,\"head\":{\"vars\":[\"s\"]},\"output_version\":\"2.0\",\"results\":{\"bindings\":[{\"__meta__\":{\"is_verified\":true},\"s\":{\"type\":\"uri\",\"value\":\"http://worldbank.org/economy-and-growth/Country/WLD/Indicator/BG.GSR.NFSV.GD.ZS/Year/1981\"}},{\"__meta__\":{\"is_verified\":true},\"s\":{\"type\":\"uri\",\"value\":\"http://worldbank.org/economy-and-growth/Country/WLD/Indicator/BM.GSR.CMCP.ZS/Year/1981\"}},{\"__meta__\":{\"is_verified\":true},\"s\":{\"type\":\"uri\",\"value\":\"http://worldbank.org/economy-and-growth/Country/WLD/Indicator/BM.GSR.FCTY.CD/Year/1981\"}},{\"__meta__\":{\"is_verified\":true},\"s\":{\"type\":\"uri\",\"value\":\"http://worldbank.org/economy-and-growth/Country/WLD/Indicator/BM.GSR.GNFS.CD/Year/1981\"}},{\"__meta__\":{\"is_verified\":true},\"s\":{\"type\":\"uri\",\"value\":\"http://worldbank.org/economy-and-growth/Country/WLD/Indicator/BM.GSR.INSF.ZS/Year/1981\"}},{\"__meta__\":{\"is_verified\":true},\"s\":{\"type\":\"uri\",\"value\":\"http://worldbank.org/economy-and-growth/Country/WLD/Indicator/BM.GSR.MRCH.CD/Year/1981\"}},{\"__meta__\":{\"is_verified\":true},\"s\":{\"type\":\"uri\",\"value\":\"http://worldbank.org/economy-and-growth/Country/WLD/Indicator/BM.GSR.NFSV.CD/Year/1981\"}},{\"__meta__\":{\"is_verified\":true},\"s\":{\"type\":\"uri\",\"value\":\"http://worldbank.org/economy-and-growth/Country/WLD/Indicator/BM.GSR.ROYL.CD/Year/1981\"}},{\"__meta__\":{\"is_verified\":true},\"s\":{\"type\":\"uri\",\"value\":\"http://worldbank.org/economy-and-growth/Country/WLD/Indicator/BM.GSR.TOTL.CD/Year/1981\"}},{\"__meta__\":{\"is_verified\":true},\"s\":{\"type\":\"uri\",\"value\":\"http://worldbank.org/economy-and-growth/Country/WLD/Indicator/BM.GSR.TRAN.ZS/Year/1981\"}},{\"__meta__\":{\"is_verified\":true},\"s\":{\"type\":\"uri\",\"value\":\"http://worldbank.org/economy-and-growth/Country/WLD/Indicator/BM.GSR.TRVL.ZS/Year/1981\"}},{\"__meta__\":{\"is_verified\":true},\"s\":{\"type\":\"uri\",\"value\":\"http://worldbank.org/economy-and-growth/Country/WLD/Indicator/BM.KLT.DINV.CD.WD/Year/1981\"}},{\"__meta__\":{\"is_verified\":true},\"s\":{\"type\":\"uri\",\"value\":\"http://worldbank.org/economy-and-growth/Country/WLD/Indicator/BM.KLT.DINV.WD.GD.ZS/Year/1981\"}},{\"__meta__\":{\"is_verified\":true},\"s\":{\"type\":\"uri\",\"value\":\"http://worldbank.org/economy-and-growth/Country/WLD/Indicator/BM.TRF.PRVT.CD/Year/1981\"}},{\"__meta__\":{\"is_verified\":true},\"s\":{\"type\":\"uri\",\"value\":\"http://worldbank.org/economy-and-growth/Country/WLD/Indicator/BM.TRF.PWKR.CD.DT/Year/1981\"}},{\"__meta__\":{\"is_verified\":true},\"s\":{\"type\":\"uri\",\"value\":\"http://worldbank.org/economy-and-growth/Country/WLD/Indicator/BN.CAB.XOKA.CD/Year/1981\"}},{\"__meta__\":{\"is_verified\":true},\"s\":{\"type\":\"uri\",\"value\":\"http://worldbank.org/economy-and-growth/Country/WLD/Indicator/BN.CAB.XOKA.GD.ZS/Year/1981\"}},{\"__meta__\":{\"is_verified\":true},\"s\":{\"type\":\"uri\",\"value\":\"http://worldbank.org/economy-and-growth/Country/WLD/Indicator/BN.FIN.TOTL.CD/Year/1981\"}},{\"__meta__\":{\"is_verified\":true},\"s\":{\"type\":\"uri\",\"value\":\"http://worldbank.org/economy-and-growth/Country/WLD/Indicator/BN.GSR.FCTY.CD/Year/1981\"}},{\"__meta__\":{\"is_verified\":true},\"s\":{\"type\":\"uri\",\"value\":\"http://worldbank.org/economy-and-growth/Country/WLD/Indicator/BN.GSR.GNFS.CD/Year/1981\"}},{\"__meta__\":{\"is_verified\":true},\"s\":{\"type\":\"uri\",\"value\":\"http://worldbank.org/economy-and-growth/Country/WLD/Indicator/BN.GSR.MRCH.CD/Year/1981\"}},{\"__meta__\":{\"is_verified\":true},\"s\":{\"type\":\"uri\",\"value\":\"http://worldbank.org/economy-and-growth/Country/WLD/Indicator/BN.KAC.EOMS.CD/Year/1981\"}},{\"__meta__\":{\"is_verified\":true},\"s\":{\"type\":\"uri\",\"value\":\"http://worldbank.org/economy-and-growth/Country/WLD/Indicator/BN.KLT.DINV.CD/Year/1981\"}},{\"__meta__\":{\"is_verified\":true},\"s\":{\"type\":\"uri\",\"value\":\"http://worldbank.org/economy-and-growth/Country/WLD/Indicator/BN.KLT.PTXL.CD/Year/1981\"}},{\"__meta__\":{\"is_verified\":true},\"s\":{\"type\":\"uri\",\"value\":\"http://worldbank.org/economy-and-growth/Country/WLD/Indicator/BN.RES.INCL.CD/Year/1981\"}},{\"__meta__\":{\"is_verified\":true},\"s\":{\"type\":\"uri\",\"value\":\"http://worldbank.org/economy-and-growth/Country/WLD/Indicator/BN.TRF.CURR.CD/Year/1981\"}},{\"__meta__\":{\"is_verified\":true},\"s\":{\"type\":\"uri\",\"value\":\"http://worldbank.org/economy-and-growth/Country/WLD/Indicator/BN.TRF.KOGT.CD/Year/1981\"}},{\"__meta__\":{\"is_verified\":true},\"s\":{\"type\":\"uri\",\"value\":\"http://worldbank.org/economy-and-growth/Country/WLD/Indicator/BX.GRT.EXTA.CD.WD/Year/1981\"}},{\"__meta__\":{\"is_verified\":true},\"s\":{\"type\":\"uri\",\"value\":\"http://worldbank.org/economy-and-growth/Country/WLD/Indicator/BX.GRT.TECH.CD.WD/Year/1981\"}},{\"__meta__\":{\"is_verified\":true},\"s\":{\"type\":\"uri\",\"value\":\"http://worldbank.org/economy-and-growth/Country/WLD/Indicator/BX.GSR.CCIS.CD/Year/1981\"}},{\"__meta__\":{\"is_verified\":true},\"s\":{\"type\":\"uri\",\"value\":\"http://worldbank.org/economy-and-growth/Country/WLD/Indicator/BX.GSR.CCIS.ZS/Year/1981\"}},{\"__meta__\":{\"is_verified\":true},\"s\":{\"type\":\"uri\",\"value\":\"http://worldbank.org/economy-and-growth/Country/WLD/Indicator/BX.GSR.CMCP.ZS/Year/1981\"}},{\"__meta__\":{\"is_verified\":true},\"s\":{\"type\":\"uri\",\"value\":\"http://worldbank.org/economy-and-growth/Country/WLD/Indicator/BX.GSR.FCTY.CD/Year/1981\"}},{\"__meta__\":{\"is_verified\":true},\"s\":{\"type\":\"uri\",\"value\":\"http://worldbank.org/economy-and-growth/Country/WLD/Indicator/BX.GSR.GNFS.CD/Year/1981\"}},{\"__meta__\":{\"is_verified\":true},\"s\":{\"type\":\"uri\",\"value\":\"http://worldbank.org/economy-and-growth/Country/WLD/Indicator/BX.GSR.INSF.ZS/Year/1981\"}},{\"__meta__\":{\"is_verified\":true},\"s\":{\"type\":\"uri\",\"value\":\"http://worldbank.org/economy-and-growth/Country/WLD/Indicator/BX.GSR.MRCH.CD/Year/1981\"}},{\"__meta__\":{\"is_verified\":true},\"s\":{\"type\":\"uri\",\"value\":\"http://worldbank.org/economy-and-growth/Country/WLD/Indicator/BX.GSR.NFSV.CD/Year/1981\"}},{\"__meta__\":{\"is_verified\":true},\"s\":{\"type\":\"uri\",\"value\":\"http://worldbank.org/economy-and-growth/Country/WLD/Indicator/BX.GSR.ROYL.CD/Year/1981\"}},{\"__meta__\":{\"is_verified\":true},\"s\":{\"type\":\"uri\",\"value\":\"http://worldbank.org/economy-and-growth/Country/WLD/Indicator/BX.GSR.TOTL.CD/Year/1981\"}},{\"__meta__\":{\"is_verified\":true},\"s\":{\"type\":\"uri\",\"value\":\"http://worldbank.org/economy-and-growth/Country/WLD/Indicator/BX.GSR.TRAN.ZS/Year/1981\"}},{\"__meta__\":{\"is_verified\":true},\"s\":{\"type\":\"uri\",\"value\":\"http://worldbank.org/economy-and-growth/Country/WLD/Indicator/BX.GSR.TRVL.ZS/Year/1981\"}},{\"__meta__\":{\"is_verified\":true},\"s\":{\"type\":\"uri\",\"value\":\"http://worldbank.org/economy-and-growth/Country/WLD/Indicator/BX.KLT.DINV.CD.WD/Year/1981\"}},{\"__meta__\":{\"is_verified\":true},\"s\":{\"type\":\"uri\",\"value\":\"http://worldbank.org/economy-and-growth/Country/WLD/Indicator/BX.KLT.DINV.WD.GD.ZS/Year/1981\"}},{\"__meta__\":{\"is_verified\":true},\"s\":{\"type\":\"uri\",\"value\":\"http://worldbank.org/economy-and-growth/Country/WLD/Indicator/BX.PEF.TOTL.CD.WD/Year/1981\"}},{\"__meta__\":{\"is_verified\":true},\"s\":{\"type\":\"uri\",\"value\":\"http://worldbank.org/economy-and-growth/Country/WLD/Indicator/BX.TRF.CURR.CD/Year/1981\"}},{\"__meta__\":{\"is_verified\":true},\"s\":{\"type\":\"uri\",\"value\":\"http://worldbank.org/economy-and-growth/Country/WLD/Indicator/BX.TRF.PWKR.CD.DT/Year/1981\"}},{\"__meta__\":{\"is_verified\":true},\"s\":{\"type\":\"uri\",\"value\":\"http://worldbank.org/economy-and-growth/Country/WLD/Indicator/BX.TRF.PWKR.CD/Year/1981\"}},{\"__meta__\":{\"is_verified\":true},\"s\":{\"type\":\"uri\",\"value\":\"http://worldbank.org/economy-and-growth/Country/WLD/Indicator/BX.TRF.PWKR.DT.GD.ZS/Year/1981\"}},{\"__meta__\":{\"is_verified\":true},\"s\":{\"type\":\"uri\",\"value\":\"http://worldbank.org/economy-and-growth/Country/WLD/Indicator/DT.DOD.DECT.CD/Year/1981\"}},{\"__meta__\":{\"is_verified\":true},\"s\":{\"type\":\"uri\",\"value\":\"http://worldbank.org/economy-and-growth/Country/WLD/Indicator/DT.DOD.DECT.GN.ZS/Year/1981\"}},{\"__meta__\":{\"is_verified\":true},\"s\":{\"type\":\"uri\",\"value\":\"http://worldbank.org/economy-and-growth/Country/WLD/Indicator/DT.DOD.DSTC.IR.ZS/Year/1981\"}},{\"__meta__\":{\"is_verified\":true},\"s\":{\"type\":\"uri\",\"value\":\"http://worldbank.org/economy-and-growth/Country/WLD/Indicator/DT.DOD.DSTC.XP.ZS/Year/1981\"}},{\"__meta__\":{\"is_verified\":true},\"s\":{\"type\":\"uri\",\"value\":\"http://worldbank.org/economy-and-growth/Country/WLD/Indicator/DT.DOD.PVLX.CD/Year/1981\"}},{\"__meta__\":{\"is_verified\":true},\"s\":{\"type\":\"uri\",\"value\":\"http://worldbank.org/economy-and-growth/Country/WLD/Indicator/DT.DOD.PVLX.EX.ZS/Year/1981\"}},{\"__meta__\":{\"is_verified\":true},\"s\":{\"type\":\"uri\",\"value\":\"http://worldbank.org/economy-and-growth/Country/WLD/Indicator/DT.DOD.PVLX.GN.ZS/Year/1981\"}},{\"__meta__\":{\"is_verified\":true},\"s\":{\"type\":\"uri\",\"value\":\"http://worldbank.org/economy-and-growth/Country/WLD/Indicator/DT.ODA.ODAT.CD/Year/1981\"}},{\"__meta__\":{\"is_verified\":true},\"s\":{\"type\":\"uri\",\"value\":\"http://worldbank.org/economy-and-growth/Country/WLD/Indicator/DT.ODA.ODAT.GN.ZS/Year/1981\"}},{\"__meta__\":{\"is_verified\":true},\"s\":{\"type\":\"uri\",\"value\":\"http://worldbank.org/economy-and-growth/Country/WLD/Indicator/DT.ODA.ODAT.PC.ZS/Year/1981\"}},{\"__meta__\":{\"is_verified\":true},\"s\":{\"type\":\"uri\",\"value\":\"http://worldbank.org/economy-and-growth/Country/WLD/Indicator/DT.TDS.DECT.EX.ZS/Year/1981\"}},{\"__meta__\":{\"is_verified\":true},\"s\":{\"type\":\"uri\",\"value\":\"http://worldbank.org/economy-and-growth/Country/WLD/Indicator/DT.TDS.DECT.GN.ZS/Year/1981\"}},{\"__meta__\":{\"is_verified\":true},\"s\":{\"type\":\"uri\",\"value\":\"http://worldbank.org/economy-and-growth/Country/WLD/Indicator/FI.RES.TOTL.CD/Year/1981\"}},{\"__meta__\":{\"is_verified\":true},\"s\":{\"type\":\"uri\",\"value\":\"http://worldbank.org/economy-and-growth/Country/WLD/Indicator/FI.RES.XGLD.CD/Year/1981\"}},{\"__meta__\":{\"is_verified\":true},\"s\":{\"type\":\"uri\",\"value\":\"http://worldbank.org/economy-and-growth/Country/WLD/Indicator/FP.CPI.TOTL.ZG/Year/1981\"}},{\"__meta__\":{\"is_verified\":true},\"s\":{\"type\":\"uri\",\"value\":\"http://worldbank.org/economy-and-growth/Country/WLD/Indicator/GC.DOD.TOTL.GD.ZS/Year/1981\"}},{\"__meta__\":{\"is_verified\":true},\"s\":{\"type\":\"uri\",\"value\":\"http://worldbank.org/economy-and-growth/Country/WLD/Indicator/GC.REV.XGRT.GD.ZS/Year/1981\"}},{\"__meta__\":{\"is_verified\":true},\"s\":{\"type\":\"uri\",\"value\":\"http://worldbank.org/economy-and-growth/Country/WLD/Indicator/GC.XPN.TOTL.GD.ZS/Year/1981\"}},{\"__meta__\":{\"is_verified\":true},\"s\":{\"type\":\"uri\",\"value\":\"http://worldbank.org/economy-and-growth/Country/WLD/Indicator/NE.CON.GOVT.CD/Year/1981\"}},{\"__meta__\":{\"is_verified\":true},\"s\":{\"type\":\"uri\",\"value\":\"http://worldbank.org/economy-and-growth/Country/WLD/Indicator/NE.CON.GOVT.CN/Year/1981\"}},{\"__meta__\":{\"is_verified\":true},\"s\":{\"type\":\"uri\",\"value\":\"http://worldbank.org/economy-and-growth/Country/WLD/Indicator/NE.CON.GOVT.KD.ZG/Year/1981\"}},{\"__meta__\":{\"is_verified\":true},\"s\":{\"type\":\"uri\",\"value\":\"http://worldbank.org/economy-and-growth/Country/WLD/Indicator/NE.CON.GOVT.KD/Year/1981\"}},{\"__meta__\":{\"is_verified\":true},\"s\":{\"type\":\"uri\",\"value\":\"http://worldbank.org/economy-and-growth/Country/WLD/Indicator/NE.CON.GOVT.KN/Year/1981\"}},{\"__meta__\":{\"is_verified\":true},\"s\":{\"type\":\"uri\",\"value\":\"http://worldbank.org/economy-and-growth/Country/WLD/Indicator/NE.CON.GOVT.ZS/Year/1981\"}},{\"__meta__\":{\"is_verified\":true},\"s\":{\"type\":\"uri\",\"value\":\"http://worldbank.org/economy-and-growth/Country/WLD/Indicator/NE.CON.PRVT.CD/Year/1981\"}},{\"__meta__\":{\"is_verified\":true},\"s\":{\"type\":\"uri\",\"value\":\"http://worldbank.org/economy-and-growth/Country/WLD/Indicator/NE.CON.PRVT.CN.AD/Year/1981\"}},{\"__meta__\":{\"is_verified\":true},\"s\":{\"type\":\"uri\",\"value\":\"http://worldbank.org/economy-and-growth/Country/WLD/Indicator/NE.CON.PRVT.CN/Year/1981\"}},{\"__meta__\":{\"is_verified\":true},\"s\":{\"type\":\"uri\",\"value\":\"http://worldbank.org/economy-and-growth/Country/WLD/Indicator/NE.CON.PRVT.KD.ZG/Year/1981\"}},{\"__meta__\":{\"is_verified\":true},\"s\":{\"type\":\"uri\",\"value\":\"http://worldbank.org/economy-and-growth/Country/WLD/Indicator/NE.CON.PRVT.KD/Year/1981\"}},{\"__meta__\":{\"is_verified\":true},\"s\":{\"type\":\"uri\",\"value\":\"http://worldbank.org/economy-and-growth/Country/WLD/Indicator/NE.CON.PRVT.KN/Year/1981\"}},{\"__meta__\":{\"is_verified\":true},\"s\":{\"type\":\"uri\",\"value\":\"http://worldbank.org/economy-and-growth/Country/WLD/Indicator/NE.CON.PRVT.PC.KD.ZG/Year/1981\"}},{\"__meta__\":{\"is_verified\":true},\"s\":{\"type\":\"uri\",\"value\":\"http://worldbank.org/economy-and-growth/Country/WLD/Indicator/NE.CON.PRVT.PC.KD/Year/1981\"}},{\"__meta__\":{\"is_verified\":true},\"s\":{\"type\":\"uri\",\"value\":\"http://worldbank.org/economy-and-growth/Country/WLD/Indicator/NE.CON.PRVT.PP.CD/Year/1981\"}},{\"__meta__\":{\"is_verified\":true},\"s\":{\"type\":\"uri\",\"value\":\"http://worldbank.org/economy-and-growth/Country/WLD/Indicator/NE.CON.PRVT.PP.KD/Year/1981\"}},{\"__meta__\":{\"is_verified\":true},\"s\":{\"type\":\"uri\",\"value\":\"http://worldbank.org/economy-and-growth/Country/WLD/Indicator/NE.CON.PRVT.ZS/Year/1981\"}},{\"__meta__\":{\"is_verified\":true},\"s\":{\"type\":\"uri\",\"value\":\"http://worldbank.org/economy-and-growth/Country/WLD/Indicator/NE.CON.TOTL.CD/Year/1981\"}},{\"__meta__\":{\"is_verified\":true},\"s\":{\"type\":\"uri\",\"value\":\"http://worldbank.org/economy-and-growth/Country/WLD/Indicator/NE.CON.TOTL.CN/Year/1981\"}},{\"__meta__\":{\"is_verified\":true},\"s\":{\"type\":\"uri\",\"value\":\"http://worldbank.org/economy-and-growth/Country/WLD/Indicator/NE.CON.TOTL.KD.ZG/Year/1981\"}},{\"__meta__\":{\"is_verified\":true},\"s\":{\"type\":\"uri\",\"value\":\"http://worldbank.org/economy-and-growth/Country/WLD/Indicator/NE.CON.TOTL.KD/Year/1981\"}},{\"__meta__\":{\"is_verified\":true},\"s\":{\"type\":\"uri\",\"value\":\"http://worldbank.org/economy-and-growth/Country/WSM/Indicator/BG.GSR.NFSV.GD.ZS/Year/1981\"}},{\"__meta__\":{\"is_verified\":true},\"s\":{\"type\":\"uri\",\"value\":\"http://worldbank.org/economy-and-growth/Country/WSM/Indicator/BM.GSR.CMCP.ZS/Year/1981\"}},{\"__meta__\":{\"is_verified\":true},\"s\":{\"type\":\"uri\",\"value\":\"http://worldbank.org/economy-and-growth/Country/WSM/Indicator/BM.GSR.FCTY.CD/Year/1981\"}},{\"__meta__\":{\"is_verified\":true},\"s\":{\"type\":\"uri\",\"value\":\"http://worldbank.org/economy-and-growth/Country/WSM/Indicator/BM.GSR.GNFS.CD/Year/1981\"}},{\"__meta__\":{\"is_verified\":true},\"s\":{\"type\":\"uri\",\"value\":\"http://worldbank.org/economy-and-growth/Country/WSM/Indicator/BM.GSR.INSF.ZS/Year/1981\"}},{\"__meta__\":{\"is_verified\":true},\"s\":{\"type\":\"uri\",\"value\":\"http://worldbank.org/economy-and-growth/Country/WSM/Indicator/BM.GSR.MRCH.CD/Year/1981\"}},{\"__meta__\":{\"is_verified\":true},\"s\":{\"type\":\"uri\",\"value\":\"http://worldbank.org/economy-and-growth/Country/WSM/Indicator/BM.GSR.NFSV.CD/Year/1981\"}},{\"__meta__\":{\"is_verified\":true},\"s\":{\"type\":\"uri\",\"value\":\"http://worldbank.org/economy-and-growth/Country/WSM/Indicator/BM.GSR.ROYL.CD/Year/1981\"}},{\"__meta__\":{\"is_verified\":true},\"s\":{\"type\":\"uri\",\"value\":\"http://worldbank.org/economy-and-growth/Country/WSM/Indicator/BM.GSR.TOTL.CD/Year/1981\"}},{\"__meta__\":{\"is_verified\":true},\"s\":{\"type\":\"uri\",\"value\":\"http://worldbank.org/economy-and-growth/Country/WSM/Indicator/BM.GSR.TRAN.ZS/Year/1981\"}},{\"__meta__\":{\"is_verified\":true},\"s\":{\"type\":\"uri\",\"value\":\"http://worldbank.org/economy-and-growth/Country/WSM/Indicator/BM.GSR.TRVL.ZS/Year/1981\"}},{\"__meta__\":{\"is_verified\":true},\"s\":{\"type\":\"uri\",\"value\":\"http://worldbank.org/economy-and-growth/Country/WSM/Indicator/BM.KLT.DINV.CD.WD/Year/1981\"}},{\"__meta__\":{\"is_verified\":true},\"s\":{\"type\":\"uri\",\"value\":\"http://worldbank.org/economy-and-growth/Country/WSM/Indicator/BM.KLT.DINV.WD.GD.ZS/Year/1981\"}}]}}\n",
      "\n",
      "Total time taken by get_answer function: 1.4881868362426758\n"
     ]
    },
    {
     "data": {
      "text/html": [
       "<div>\n",
       "<style scoped>\n",
       "    .dataframe tbody tr th:only-of-type {\n",
       "        vertical-align: middle;\n",
       "    }\n",
       "\n",
       "    .dataframe tbody tr th {\n",
       "        vertical-align: top;\n",
       "    }\n",
       "\n",
       "    .dataframe thead th {\n",
       "        text-align: right;\n",
       "    }\n",
       "</style>\n",
       "<table border=\"1\" class=\"dataframe\">\n",
       "  <thead>\n",
       "    <tr style=\"text-align: right;\">\n",
       "      <th></th>\n",
       "      <th>cardinality</th>\n",
       "      <th>execution_time</th>\n",
       "      <th>head</th>\n",
       "      <th>output_version</th>\n",
       "      <th>results</th>\n",
       "    </tr>\n",
       "  </thead>\n",
       "  <tbody>\n",
       "    <tr>\n",
       "      <th>vars</th>\n",
       "      <td>100</td>\n",
       "      <td>1.458416</td>\n",
       "      <td>[s]</td>\n",
       "      <td>2</td>\n",
       "      <td>NaN</td>\n",
       "    </tr>\n",
       "    <tr>\n",
       "      <th>bindings</th>\n",
       "      <td>100</td>\n",
       "      <td>1.458416</td>\n",
       "      <td>NaN</td>\n",
       "      <td>2</td>\n",
       "      <td>[{'__meta__': {'is_verified': True}, 's': {'ty...</td>\n",
       "    </tr>\n",
       "  </tbody>\n",
       "</table>\n",
       "</div>"
      ],
      "text/plain": [
       "          cardinality  execution_time head  output_version  \\\n",
       "vars              100        1.458416  [s]               2   \n",
       "bindings          100        1.458416  NaN               2   \n",
       "\n",
       "                                                    results  \n",
       "vars                                                    NaN  \n",
       "bindings  [{'__meta__': {'is_verified': True}, 's': {'ty...  "
      ]
     },
     "execution_count": 8,
     "metadata": {},
     "output_type": "execute_result"
    }
   ],
   "source": [
    "fdquery.get_answer(\"PREFIX wb: <http://worldbank.org/> \\n\\n SELECT ?s WHERE { ?s a wb:AnnualIndicatorEntry} \\n\\n LIMIT 100\")"
   ]
  },
  {
   "cell_type": "code",
   "execution_count": null,
   "id": "a1dcc9d3-eb64-4710-ac79-1f1d4ba12171",
   "metadata": {},
   "outputs": [],
   "source": []
  }
 ],
 "metadata": {
  "kernelspec": {
   "display_name": "Python 3 (ipykernel)",
   "language": "python",
   "name": "python3"
  },
  "language_info": {
   "codemirror_mode": {
    "name": "ipython",
    "version": 3
   },
   "file_extension": ".py",
   "mimetype": "text/x-python",
   "name": "python",
   "nbconvert_exporter": "python",
   "pygments_lexer": "ipython3",
   "version": "3.9.13"
  }
 },
 "nbformat": 4,
 "nbformat_minor": 5
}
