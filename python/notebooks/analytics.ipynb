{
 "cells": [
  {
   "cell_type": "code",
   "execution_count": null,
   "id": "75394514-8b89-4c8c-987c-3207f9c03d17",
   "metadata": {},
   "outputs": [],
   "source": [
    "import pandas as pd\n",
    "from coypu.utils import query\n",
    "from query import queries\n",
    "\n",
    "pd.options.display.max_rows = 999\n",
    "pd.options.display.max_columns = 999"
   ]
  },
  {
   "cell_type": "code",
   "execution_count": null,
   "id": "c87047ac-b265-460a-a20d-2b917e3fa4fd",
   "metadata": {},
   "outputs": [],
   "source": [
    "# sparql_endpoints\n",
    "\n",
    "cmemc_query_imp = query.CMEMCQuery(query.client_url_imp, query.client_id_imp, query.client_secret_imp)\n",
    "    \n",
    "fuseki_infai = query.FusekiQuery(query.fuseki_endpoint_infai, query.fuseki_user_infai, query.fuseki_pw_infai)\n",
    "\n",
    "fdquery = query.FDQuery(\"http://localhost:5002/sparql\")"
   ]
  },
  {
   "cell_type": "code",
   "execution_count": null,
   "id": "92d1a2e1-3fba-489c-99b5-db842ef10343",
   "metadata": {},
   "outputs": [],
   "source": [
    "fdquery.get_answer(queries.query_test_private_public, sparql1_1=True).head(2)\n",
    "fdquery.get_answer(queries.query_test_private_service_2, sparql1_1=True).head(2)\n",
    "fdquery.get_answer(queries.query_test_private_service, sparql1_1=True).head(2)"
   ]
  },
  {
   "cell_type": "code",
   "execution_count": null,
   "id": "619d0594-dbc1-4593-929d-fc8ae8f0181f",
   "metadata": {},
   "outputs": [],
   "source": [
    "fdquery.get_answer(queries.query_1_fdq, sparql1_1=True)"
   ]
  },
  {
   "cell_type": "code",
   "execution_count": 1,
   "id": "ed9b1e0a-726b-47af-9321-8933625bb6df",
   "metadata": {},
   "outputs": [
    {
     "name": "stdout",
     "output_type": "stream",
     "text": [
      "Index(['ID', 'Severity', 'Start_Time', 'End_Time', 'Start_Lat', 'Start_Lng',\n",
      "       'End_Lat', 'End_Lng', 'Distance(mi)', 'Description', 'Number', 'Street',\n",
      "       'Side', 'City', 'County', 'State', 'Zipcode', 'Country', 'Timezone',\n",
      "       'Airport_Code', 'Weather_Timestamp', 'Temperature(F)', 'Wind_Chill(F)',\n",
      "       'Humidity(%)', 'Pressure(in)', 'Visibility(mi)', 'Wind_Direction',\n",
      "       'Wind_Speed(mph)', 'Precipitation(in)', 'Weather_Condition', 'Amenity',\n",
      "       'Bump', 'Crossing', 'Give_Way', 'Junction', 'No_Exit', 'Railway',\n",
      "       'Roundabout', 'Station', 'Stop', 'Traffic_Calming', 'Traffic_Signal',\n",
      "       'Turning_Loop', 'Sunrise_Sunset', 'Civil_Twilight', 'Nautical_Twilight',\n",
      "       'Astronomical_Twilight'],\n",
      "      dtype='object')\n"
     ]
    }
   ],
   "source": [
    "# Processing Data\n",
    "from coypu.datasets import dataset\n",
    "from coypu.utils import functions\n",
    "import pandas as pd\n",
    "\n",
    "df = pd.read_csv('../../query_results/US_Accidents_Dec21_updated.csv', encoding='utf-8')\n",
    "\n",
    "print (df.columns)\n",
    "\n",
    "array_fast = dataset.FastArrayProcessing(functions.add_text, df['Description'])\n"
   ]
  },
  {
   "cell_type": "code",
   "execution_count": 2,
   "id": "8114ee5d-156c-4cdf-ad35-d25a89d57709",
   "metadata": {},
   "outputs": [
    {
     "name": "stderr",
     "output_type": "stream",
     "text": [
      "100%|██████████| 2845342/2845342 [00:02<00:00, 1296780.91it/s]\n"
     ]
    }
   ],
   "source": [
    "df_m = array_fast.do_multiprocessing()"
   ]
  },
  {
   "cell_type": "code",
   "execution_count": 3,
   "id": "46fa04fe-d3d6-40b3-839d-4ba55989d5e4",
   "metadata": {},
   "outputs": [
    {
     "name": "stderr",
     "output_type": "stream",
     "text": [
      "100%|██████████| 2845342/2845342 [00:17<00:00, 165141.36it/s]\n"
     ]
    }
   ],
   "source": [
    "df_par = array_fast.do_parallel_processing()"
   ]
  },
  {
   "cell_type": "code",
   "execution_count": 4,
   "id": "0497e00f-6422-408d-a436-0ddac156c1e3",
   "metadata": {},
   "outputs": [
    {
     "name": "stderr",
     "output_type": "stream",
     "text": [
      "100%|██████████| 24/24 [00:00<00:00, 20168.96it/s]\n",
      "100%|██████████| 24/24 [00:00<00:00, 35.92it/s]\n"
     ]
    },
    {
     "ename": "AttributeError",
     "evalue": "Can't pickle local object 'FastArrayProcessing.do_batch_processing.<locals>.proc_batch'",
     "output_type": "error",
     "traceback": [
      "\u001b[0;31m---------------------------------------------------------------------------\u001b[0m",
      "\u001b[0;31mAttributeError\u001b[0m                            Traceback (most recent call last)",
      "Input \u001b[0;32mIn [4]\u001b[0m, in \u001b[0;36m<cell line: 1>\u001b[0;34m()\u001b[0m\n\u001b[0;32m----> 1\u001b[0m df_batch \u001b[38;5;241m=\u001b[39m \u001b[43marray_fast\u001b[49m\u001b[38;5;241;43m.\u001b[39;49m\u001b[43mdo_batch_processing\u001b[49m\u001b[43m(\u001b[49m\u001b[43m)\u001b[49m\n",
      "File \u001b[0;32m~/projects/proj_off/local_repos/CoyPu/python/coypu/datasets/dataset.py:58\u001b[0m, in \u001b[0;36mFastArrayProcessing.do_batch_processing\u001b[0;34m(self)\u001b[0m\n\u001b[1;32m     56\u001b[0m batch_size \u001b[38;5;241m=\u001b[39m \u001b[38;5;28mround\u001b[39m(file_len\u001b[38;5;241m/\u001b[39m\u001b[38;5;28mself\u001b[39m\u001b[38;5;241m.\u001b[39mn_workers)\n\u001b[1;32m     57\u001b[0m batches \u001b[38;5;241m=\u001b[39m [\u001b[38;5;28mself\u001b[39m\u001b[38;5;241m.\u001b[39marray[ix:ix\u001b[38;5;241m+\u001b[39mbatch_size] \u001b[38;5;28;01mfor\u001b[39;00m ix \u001b[38;5;129;01min\u001b[39;00m tqdm(\u001b[38;5;28mrange\u001b[39m(\u001b[38;5;241m0\u001b[39m, file_len, batch_size))]\n\u001b[0;32m---> 58\u001b[0m batch_outputs \u001b[38;5;241m=\u001b[39m \u001b[43mjb\u001b[49m\u001b[38;5;241;43m.\u001b[39;49m\u001b[43mParallel\u001b[49m\u001b[43m(\u001b[49m\u001b[38;5;28;43mself\u001b[39;49m\u001b[38;5;241;43m.\u001b[39;49m\u001b[43mn_workers\u001b[49m\u001b[43m,\u001b[49m\u001b[43m \u001b[49m\u001b[43mbackend\u001b[49m\u001b[38;5;241;43m=\u001b[39;49m\u001b[38;5;124;43m\"\u001b[39;49m\u001b[38;5;124;43mmultiprocessing\u001b[39;49m\u001b[38;5;124;43m\"\u001b[39;49m\u001b[43m)\u001b[49m\u001b[43m\\\u001b[49m\n\u001b[1;32m     59\u001b[0m \u001b[43m               \u001b[49m\u001b[43m(\u001b[49m\u001b[43mjb\u001b[49m\u001b[38;5;241;43m.\u001b[39;49m\u001b[43mdelayed\u001b[49m\u001b[43m(\u001b[49m\u001b[43mproc_batch\u001b[49m\u001b[43m)\u001b[49m\u001b[43m(\u001b[49m\u001b[43mbatch\u001b[49m\u001b[43m)\u001b[49m\u001b[43m \u001b[49m\u001b[38;5;28;43;01mfor\u001b[39;49;00m\u001b[43m \u001b[49m\u001b[43mbatch\u001b[49m\u001b[43m \u001b[49m\u001b[38;5;129;43;01min\u001b[39;49;00m\u001b[43m \u001b[49m\u001b[43mtqdm\u001b[49m\u001b[43m(\u001b[49m\u001b[43mbatches\u001b[49m\u001b[43m)\u001b[49m\u001b[43m)\u001b[49m\n\u001b[1;32m     60\u001b[0m \u001b[38;5;28;01mreturn\u001b[39;00m [value \u001b[38;5;28;01mfor\u001b[39;00m batch_output \u001b[38;5;129;01min\u001b[39;00m batch_outputs \u001b[38;5;28;01mfor\u001b[39;00m value \u001b[38;5;129;01min\u001b[39;00m batch_output]\n",
      "File \u001b[0;32m~/miniconda3/envs/coypu/lib/python3.9/site-packages/joblib/parallel.py:1056\u001b[0m, in \u001b[0;36mParallel.__call__\u001b[0;34m(self, iterable)\u001b[0m\n\u001b[1;32m   1053\u001b[0m     \u001b[38;5;28mself\u001b[39m\u001b[38;5;241m.\u001b[39m_iterating \u001b[38;5;241m=\u001b[39m \u001b[38;5;28;01mFalse\u001b[39;00m\n\u001b[1;32m   1055\u001b[0m \u001b[38;5;28;01mwith\u001b[39;00m \u001b[38;5;28mself\u001b[39m\u001b[38;5;241m.\u001b[39m_backend\u001b[38;5;241m.\u001b[39mretrieval_context():\n\u001b[0;32m-> 1056\u001b[0m     \u001b[38;5;28;43mself\u001b[39;49m\u001b[38;5;241;43m.\u001b[39;49m\u001b[43mretrieve\u001b[49m\u001b[43m(\u001b[49m\u001b[43m)\u001b[49m\n\u001b[1;32m   1057\u001b[0m \u001b[38;5;66;03m# Make sure that we get a last message telling us we are done\u001b[39;00m\n\u001b[1;32m   1058\u001b[0m elapsed_time \u001b[38;5;241m=\u001b[39m time\u001b[38;5;241m.\u001b[39mtime() \u001b[38;5;241m-\u001b[39m \u001b[38;5;28mself\u001b[39m\u001b[38;5;241m.\u001b[39m_start_time\n",
      "File \u001b[0;32m~/miniconda3/envs/coypu/lib/python3.9/site-packages/joblib/parallel.py:935\u001b[0m, in \u001b[0;36mParallel.retrieve\u001b[0;34m(self)\u001b[0m\n\u001b[1;32m    933\u001b[0m \u001b[38;5;28;01mtry\u001b[39;00m:\n\u001b[1;32m    934\u001b[0m     \u001b[38;5;28;01mif\u001b[39;00m \u001b[38;5;28mgetattr\u001b[39m(\u001b[38;5;28mself\u001b[39m\u001b[38;5;241m.\u001b[39m_backend, \u001b[38;5;124m'\u001b[39m\u001b[38;5;124msupports_timeout\u001b[39m\u001b[38;5;124m'\u001b[39m, \u001b[38;5;28;01mFalse\u001b[39;00m):\n\u001b[0;32m--> 935\u001b[0m         \u001b[38;5;28mself\u001b[39m\u001b[38;5;241m.\u001b[39m_output\u001b[38;5;241m.\u001b[39mextend(\u001b[43mjob\u001b[49m\u001b[38;5;241;43m.\u001b[39;49m\u001b[43mget\u001b[49m\u001b[43m(\u001b[49m\u001b[43mtimeout\u001b[49m\u001b[38;5;241;43m=\u001b[39;49m\u001b[38;5;28;43mself\u001b[39;49m\u001b[38;5;241;43m.\u001b[39;49m\u001b[43mtimeout\u001b[49m\u001b[43m)\u001b[49m)\n\u001b[1;32m    936\u001b[0m     \u001b[38;5;28;01melse\u001b[39;00m:\n\u001b[1;32m    937\u001b[0m         \u001b[38;5;28mself\u001b[39m\u001b[38;5;241m.\u001b[39m_output\u001b[38;5;241m.\u001b[39mextend(job\u001b[38;5;241m.\u001b[39mget())\n",
      "File \u001b[0;32m~/miniconda3/envs/coypu/lib/python3.9/multiprocessing/pool.py:771\u001b[0m, in \u001b[0;36mApplyResult.get\u001b[0;34m(self, timeout)\u001b[0m\n\u001b[1;32m    769\u001b[0m     \u001b[38;5;28;01mreturn\u001b[39;00m \u001b[38;5;28mself\u001b[39m\u001b[38;5;241m.\u001b[39m_value\n\u001b[1;32m    770\u001b[0m \u001b[38;5;28;01melse\u001b[39;00m:\n\u001b[0;32m--> 771\u001b[0m     \u001b[38;5;28;01mraise\u001b[39;00m \u001b[38;5;28mself\u001b[39m\u001b[38;5;241m.\u001b[39m_value\n",
      "File \u001b[0;32m~/miniconda3/envs/coypu/lib/python3.9/multiprocessing/pool.py:537\u001b[0m, in \u001b[0;36mPool._handle_tasks\u001b[0;34m(taskqueue, put, outqueue, pool, cache)\u001b[0m\n\u001b[1;32m    535\u001b[0m     \u001b[38;5;28;01mbreak\u001b[39;00m\n\u001b[1;32m    536\u001b[0m \u001b[38;5;28;01mtry\u001b[39;00m:\n\u001b[0;32m--> 537\u001b[0m     \u001b[43mput\u001b[49m\u001b[43m(\u001b[49m\u001b[43mtask\u001b[49m\u001b[43m)\u001b[49m\n\u001b[1;32m    538\u001b[0m \u001b[38;5;28;01mexcept\u001b[39;00m \u001b[38;5;167;01mException\u001b[39;00m \u001b[38;5;28;01mas\u001b[39;00m e:\n\u001b[1;32m    539\u001b[0m     job, idx \u001b[38;5;241m=\u001b[39m task[:\u001b[38;5;241m2\u001b[39m]\n",
      "File \u001b[0;32m~/miniconda3/envs/coypu/lib/python3.9/site-packages/joblib/pool.py:156\u001b[0m, in \u001b[0;36mCustomizablePicklingQueue._make_methods.<locals>.send\u001b[0;34m(obj)\u001b[0m\n\u001b[1;32m    154\u001b[0m \u001b[38;5;28;01mdef\u001b[39;00m \u001b[38;5;21msend\u001b[39m(obj):\n\u001b[1;32m    155\u001b[0m     buffer \u001b[38;5;241m=\u001b[39m BytesIO()\n\u001b[0;32m--> 156\u001b[0m     \u001b[43mCustomizablePickler\u001b[49m\u001b[43m(\u001b[49m\u001b[43mbuffer\u001b[49m\u001b[43m,\u001b[49m\u001b[43m \u001b[49m\u001b[38;5;28;43mself\u001b[39;49m\u001b[38;5;241;43m.\u001b[39;49m\u001b[43m_reducers\u001b[49m\u001b[43m)\u001b[49m\u001b[38;5;241;43m.\u001b[39;49m\u001b[43mdump\u001b[49m\u001b[43m(\u001b[49m\u001b[43mobj\u001b[49m\u001b[43m)\u001b[49m\n\u001b[1;32m    157\u001b[0m     \u001b[38;5;28mself\u001b[39m\u001b[38;5;241m.\u001b[39m_writer\u001b[38;5;241m.\u001b[39msend_bytes(buffer\u001b[38;5;241m.\u001b[39mgetvalue())\n",
      "\u001b[0;31mAttributeError\u001b[0m: Can't pickle local object 'FastArrayProcessing.do_batch_processing.<locals>.proc_batch'"
     ]
    }
   ],
   "source": [
    "df_batch = array_fast.do_batch_processing()"
   ]
  },
  {
   "cell_type": "code",
   "execution_count": null,
   "id": "bc388e39-ed68-4147-bf0a-708109d14d49",
   "metadata": {},
   "outputs": [],
   "source": [
    "df_con = array_fast.do_concurrent()"
   ]
  },
  {
   "cell_type": "code",
   "execution_count": null,
   "id": "ca72025b-1f0f-482c-8d9c-cc85abdca78d",
   "metadata": {},
   "outputs": [],
   "source": []
  }
 ],
 "metadata": {
  "kernelspec": {
   "display_name": "Python 3 (ipykernel)",
   "language": "python",
   "name": "python3"
  },
  "language_info": {
   "codemirror_mode": {
    "name": "ipython",
    "version": 3
   },
   "file_extension": ".py",
   "mimetype": "text/x-python",
   "name": "python",
   "nbconvert_exporter": "python",
   "pygments_lexer": "ipython3",
   "version": "3.9.13"
  }
 },
 "nbformat": 4,
 "nbformat_minor": 5
}
