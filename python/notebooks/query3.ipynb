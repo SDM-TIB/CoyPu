{
 "cells": [
  {
   "cell_type": "code",
   "execution_count": 1,
   "id": "75394514-8b89-4c8c-987c-3207f9c03d17",
   "metadata": {},
   "outputs": [
    {
     "name": "stdout",
     "output_type": "stream",
     "text": [
      "coypu.utils\n"
     ]
    }
   ],
   "source": [
    "import pandas as pd\n",
    "from coypu.utils.query import Query\n",
    "from coypu.utils.credentials import *\n",
    "from query.queries import *\n",
    "import plotly.express as px\n",
    "import plotly.io as pio\n",
    "pio.renderers.default = \"browser\"\n",
    "import matplotlib.pyplot as plt\n",
    "import numpy as np\n",
    "from coypu.utils.functions import json_to_csv\n",
    "from json import loads, load\n",
    "import os\n",
    "\n",
    "pd.options.display.max_rows = 999\n",
    "pd.options.display.max_columns = 999"
   ]
  },
  {
   "cell_type": "code",
   "execution_count": 2,
   "id": "c87047ac-b265-460a-a20d-2b917e3fa4fd",
   "metadata": {},
   "outputs": [],
   "source": [
    "cmemc_query_imp = Query(client_url_imp, client_id_imp, client_secret_imp , 'oauth')\n",
    "    \n",
    "fuseki_infai = Query(fuseki_endpoint_infai, fuseki_user_infai, fuseki_pw_infai, 'basic')\n",
    "\n",
    "fdquery = Query(\"http://localhost:5002/sparql\", is_fdq=True)"
   ]
  },
  {
   "cell_type": "code",
   "execution_count": null,
   "id": "9e47c410-b348-4c1e-90cf-2abcd0aeef98",
   "metadata": {},
   "outputs": [],
   "source": [
    "print(query_3_fdq_desc)\n",
    "print(query_3_fdq)\n",
    "print('########################### EXAMPLE ##########################\\n{}'.format(query_3_fdq_ex))\n",
    "\n",
    "# fdquery.post_query(query_3_fdq_ex)\n",
    "# fdquery.to_save('../../query_results/', filename='query_3_fdq_ex')"
   ]
  },
  {
   "cell_type": "code",
   "execution_count": 3,
   "id": "43fd00e3-e6e7-4921-87b9-a40269682a33",
   "metadata": {},
   "outputs": [
    {
     "name": "stdout",
     "output_type": "stream",
     "text": [
      "51\n",
      "['year.value', 'value.value', 'population.value']\n"
     ]
    }
   ],
   "source": [
    "from functools import reduce\n",
    "\n",
    "a = reduce(lambda a,b : a+b, [1,2,3,45,])\n",
    "print(a)\n",
    "\n",
    "def load_json(filename):\n",
    "    with open(filename) as js:\n",
    "        json_data = load(js)\n",
    "        return json_data\n",
    "    \n",
    "def merge_jsons_to_csv(filepath, save_path, outfile, columns):\n",
    "    df = reduce(lambda df1, df2: pd.concat([df1, df2]), \\\n",
    "                [json_to_csv(load_json(filepath+filename)['results']['bindings'], save_path, filename, columns, True) for filename in os.listdir(filepath)])\n",
    "    \n",
    "    df.to_csv(save_path+outfile, encoding='utf-8', index=False)\n",
    "    \n",
    "    \n",
    "columns=[var+'.value' for var in load_json('../../query_results/query_3/query3_uk.json')['head']['vars']]\n",
    "print(columns)\n",
    "merge_jsons_to_csv('../../query_results/query_3/', '../../query_results/', 'query_3_fdq_ex.csv', columns)"
   ]
  },
  {
   "cell_type": "code",
   "execution_count": null,
   "id": "11678928-c669-4d72-996a-af3e0c0723bf",
   "metadata": {},
   "outputs": [],
   "source": [
    "from sqlalchemy import create_engine\n",
    "\n",
    "engine = create_engine(\n",
    "        \"mysql+pymysql://{user}:{pw}@{hostname}:{portno}/{db}\".format(\n",
    "            hostname=host, db=dbname, user=uname, pw=pwd, portno=port\n",
    "        ),)\n",
    "\n",
    "df = pd.read_csv('../../query_results/query_3_fdq_ex.csv', encoding='utf-8')\n",
    "df.rename(columns=lambda x: x.replace('.value', ''), inplace=True)\n",
    "try:\n",
    "    df.to_sql('query_3_fdq_ex', con=engine, if_exists='fail', index=False)\n",
    "except Exception as e:\n",
    "    print('Exeception: {}',e)"
   ]
  },
  {
   "cell_type": "code",
   "execution_count": null,
   "id": "6cc78219-5839-4489-840b-5011adf46853",
   "metadata": {},
   "outputs": [],
   "source": [
    "from sqlalchemy import create_engine\n",
    "\n",
    "engine = create_engine(\n",
    "        \"mysql+pymysql://{user}:{pw}@{hostname}:{portno}/{db}\".format(\n",
    "            hostname=host, db=dbname, user=uname, pw=pwd, portno=port))\n",
    "\n",
    "df = pd.read_sql(query_3_fdq_ex_sql, con=engine)\n",
    "\n",
    "df.to_csv('../../query_results/query_3_fdq_ex_sql.csv', encoding='utf-8', index=False)"
   ]
  },
  {
   "cell_type": "code",
   "execution_count": null,
   "id": "ab400c3f-c92b-4b6e-b051-ef5530f75ddc",
   "metadata": {},
   "outputs": [],
   "source": [
    "df = pd.read_csv('../../query_results/query_3_fdq_ex_sql.csv', encoding='utf-8')\n",
    "\n",
    "df['WikiData-WB(AvgLifeExpectancy)'] = np.abs(df['year_avg_exp_wiki']-df['year_avg_exp_WB'])\n",
    "df.head(10)"
   ]
  },
  {
   "cell_type": "code",
   "execution_count": null,
   "id": "aba806e4-b824-4401-b6dc-459dae4aba72",
   "metadata": {},
   "outputs": [],
   "source": [
    "import plotly.express as px\n",
    "fig = px.choropleth(df[df['year_WB']==2016], locations=\"country_code\",\n",
    "                    color=\"WikiData-WB(AvgLifeExpectancy)\", # lifeExp is a column of gapminder\n",
    "                    hover_name=\"country_name\", # column to add to hover information\n",
    "                    color_continuous_scale=px.colors.sequential.Plasma)\n",
    "fig.write_html('../../query_results/query_3_fdq_ex_sql.html')\n",
    "fig.show()"
   ]
  },
  {
   "cell_type": "code",
   "execution_count": null,
   "id": "92c4bf74-2811-4aa6-8f74-f2e39fedf608",
   "metadata": {},
   "outputs": [],
   "source": []
  }
 ],
 "metadata": {
  "kernelspec": {
   "display_name": "Python 3 (ipykernel)",
   "language": "python",
   "name": "python3"
  },
  "language_info": {
   "codemirror_mode": {
    "name": "ipython",
    "version": 3
   },
   "file_extension": ".py",
   "mimetype": "text/x-python",
   "name": "python",
   "nbconvert_exporter": "python",
   "pygments_lexer": "ipython3",
   "version": "3.9.13"
  }
 },
 "nbformat": 4,
 "nbformat_minor": 5
}
